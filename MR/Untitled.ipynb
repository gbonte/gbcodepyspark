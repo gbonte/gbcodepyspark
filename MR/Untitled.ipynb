{
 "cells": [
  {
   "cell_type": "code",
   "execution_count": 1,
   "id": "64de5e2e",
   "metadata": {},
   "outputs": [
    {
     "name": "stderr",
     "output_type": "stream",
     "text": [
      "Setting default log level to \"WARN\".\n",
      "To adjust logging level use sc.setLogLevel(newLevel). For SparkR, use setLogLevel(newLevel).\n",
      "25/03/17 09:56:15 WARN NativeCodeLoader: Unable to load native-hadoop library for your platform... using builtin-java classes where applicable\n"
     ]
    }
   ],
   "source": [
    "import numpy as np\n",
    "import pwd\n",
    "import getpass\n",
    "import os\n",
    "from pyspark import SparkContext, SparkConf\n",
    "from pyspark.sql import SparkSession\n",
    "from pyspark.sql.functions import avg, sum\n",
    "\n",
    "# create an instance of SparkSession\n",
    "spark=SparkSession.builder.appName('s.com').getOrCreate()\n",
    "sc=spark.sparkContext"
   ]
  },
  {
   "cell_type": "code",
   "execution_count": 61,
   "id": "53d7f7d6",
   "metadata": {},
   "outputs": [],
   "source": [
    "\n",
    "np.random.seed(1225)   \n",
    "\n",
    "n=20 # number of features\n",
    "N=1000 # number of samples\n",
    "\n",
    "X= np.random.normal(loc=0, scale=1, size=N * n).reshape(N, n)\n"
   ]
  },
  {
   "cell_type": "markdown",
   "id": "d0cd01c3",
   "metadata": {},
   "source": [
    "## Map-reduce without key"
   ]
  },
  {
   "cell_type": "code",
   "execution_count": 62,
   "id": "fb5fa554",
   "metadata": {},
   "outputs": [
    {
     "data": {
      "text/plain": [
       "4.655094166653559"
      ]
     },
     "execution_count": 62,
     "metadata": {},
     "output_type": "execute_result"
    }
   ],
   "source": [
    "rddX=sc.parallelize(X)\n",
    "rddXmax=rddX.map(lambda x: np.max(x))\n",
    "rddXmax.reduce( lambda x, y: np.max((x,y)))"
   ]
  },
  {
   "cell_type": "markdown",
   "id": "019ecf51",
   "metadata": {},
   "source": [
    "## Map-reduce with key and reduce\n"
   ]
  },
  {
   "cell_type": "code",
   "execution_count": 63,
   "id": "2e5a4c97",
   "metadata": {},
   "outputs": [
    {
     "data": {
      "text/plain": [
       "[1, 4.655094166653559]"
      ]
     },
     "execution_count": 63,
     "metadata": {},
     "output_type": "execute_result"
    }
   ],
   "source": [
    "rddX=sc.parallelize(X)\n",
    "rddXmax=rddX.map(lambda x: [1,np.max(x)])\n",
    "rddXmax.reduce( lambda x, y: [x[0],np.max((x[1],y[1]))])\n",
    "\n"
   ]
  },
  {
   "cell_type": "code",
   "execution_count": 64,
   "id": "d24ac85a",
   "metadata": {},
   "outputs": [],
   "source": [
    "## Map-reduce with key and reduceByKey"
   ]
  },
  {
   "cell_type": "code",
   "execution_count": null,
   "id": "93c40988",
   "metadata": {},
   "outputs": [],
   "source": [
    "rddXmax.reduceByKey( lambda x, y: np.max((x,y))).collect()"
   ]
  },
  {
   "cell_type": "code",
   "execution_count": null,
   "id": "7a8450d4",
   "metadata": {},
   "outputs": [],
   "source": []
  }
 ],
 "metadata": {
  "kernelspec": {
   "display_name": "Python 3 (ipykernel)",
   "language": "python",
   "name": "python3"
  },
  "language_info": {
   "codemirror_mode": {
    "name": "ipython",
    "version": 3
   },
   "file_extension": ".py",
   "mimetype": "text/x-python",
   "name": "python",
   "nbconvert_exporter": "python",
   "pygments_lexer": "ipython3",
   "version": "3.11.7"
  }
 },
 "nbformat": 4,
 "nbformat_minor": 5
}
