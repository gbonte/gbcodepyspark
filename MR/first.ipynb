{
 "cells": [
  {
   "cell_type": "code",
   "execution_count": null,
   "id": "c72e3549-bf80-4a75-a991-3ec3fdb6cbee",
   "metadata": {},
   "outputs": [],
   "source": [
    "from pyspark.sql import SparkSession"
   ]
  },
  {
   "cell_type": "code",
   "execution_count": null,
   "id": "7617c4a2-6e5f-4d76-b418-6582a6be9a0c",
   "metadata": {},
   "outputs": [],
   "source": [
    "spark=SparkSession.builder.appName('s.com').getOrCreate()"
   ]
  },
  {
   "cell_type": "code",
   "execution_count": null,
   "id": "9d159865-2d92-4445-af2b-9227215223b6",
   "metadata": {},
   "outputs": [],
   "source": [
    "sc=spark.sparkContext"
   ]
  },
  {
   "cell_type": "code",
   "execution_count": null,
   "id": "1452f9c3-b566-4fdb-bf51-a8c2b38b5f1c",
   "metadata": {},
   "outputs": [],
   "source": [
    "sc=spark.sparkContext"
   ]
  },
  {
   "cell_type": "code",
   "execution_count": null,
   "id": "5e29a40a-e453-4eaa-ba10-caba1fd552ba",
   "metadata": {},
   "outputs": [],
   "source": [
    "rdd=sc.parallelize([1,2,3])"
   ]
  },
  {
   "cell_type": "code",
   "execution_count": null,
   "id": "5e0d4db8-b3d7-456e-b798-322b7b69ee9f",
   "metadata": {},
   "outputs": [],
   "source": [
    "rdd.map(lambda x: x+10).collect()"
   ]
  },
  {
   "cell_type": "markdown",
   "id": "97b4f52f-ee8b-4212-98e2-3463ad02c0aa",
   "metadata": {},
   "source": [
    "## Import data"
   ]
  },
  {
   "cell_type": "code",
   "execution_count": null,
   "id": "6116e85a-c142-4acf-81e5-4fc67d144a5f",
   "metadata": {},
   "outputs": [],
   "source": [
    "input_path = \"DXY\"\n",
    "rdd0 = spark.sparkContext.textFile(input_path)"
   ]
  },
  {
   "cell_type": "code",
   "execution_count": null,
   "id": "4f75589d-0e5e-4e4b-bdc6-e6d374598d68",
   "metadata": {},
   "outputs": [],
   "source": [
    "rdd0.count()\n",
    "rdd0.collect()"
   ]
  },
  {
   "cell_type": "code",
   "execution_count": null,
   "id": "92552b9b-e21f-41b2-b1b0-b52b6dc52442",
   "metadata": {},
   "outputs": [],
   "source": [
    "rdd0 = spark.sparkContext.textFile(\"D.txt\")"
   ]
  },
  {
   "cell_type": "code",
   "execution_count": null,
   "id": "49615c95-d0e5-460e-bdfa-04a50a62f15a",
   "metadata": {},
   "outputs": [],
   "source": [
    "rdd0.collect()"
   ]
  },
  {
   "cell_type": "markdown",
   "id": "77d400bd-d476-437d-b22f-9ff10d56edb3",
   "metadata": {},
   "source": [
    "## Put data in the key-value format"
   ]
  },
  {
   "cell_type": "code",
   "execution_count": null,
   "id": "3717a0c7-8cb8-4418-80dd-5c5d54348a22",
   "metadata": {},
   "outputs": [],
   "source": [
    "def create_pair(record):\n",
    "    tokens = record.split(\",\")\n",
    "    return [tokens[0], float(tokens[1])]"
   ]
  },
  {
   "cell_type": "code",
   "execution_count": null,
   "id": "7e3c1f0d-9cda-4ea4-96f2-d7a224108f03",
   "metadata": {},
   "outputs": [],
   "source": [
    "rdd0=rdd0.map(create_pair)"
   ]
  },
  {
   "cell_type": "code",
   "execution_count": null,
   "id": "f74c04dc-7896-4612-83ef-0a1efe6238f2",
   "metadata": {},
   "outputs": [],
   "source": [
    "rdd2 = rdd0.map(lambda x: (x[0], x[1]+x[1]))\n",
    "rdd2.collect()"
   ]
  },
  {
   "cell_type": "markdown",
   "id": "5c35f5f0-d9f3-4aae-851d-a8f95764b150",
   "metadata": {},
   "source": [
    "## Reduce operator to compute the sum by key"
   ]
  },
  {
   "cell_type": "code",
   "execution_count": null,
   "id": "c9c8e0b4-1c95-402a-8bd2-8ab0fbb3281e",
   "metadata": {},
   "outputs": [],
   "source": [
    "rdd3 = rdd2.reduceByKey(lambda x, y: x+y)\n",
    "rdd3.count()"
   ]
  },
  {
   "cell_type": "code",
   "execution_count": null,
   "id": "e02c7b09-f585-4b4b-9401-13c68311be29",
   "metadata": {},
   "outputs": [],
   "source": [
    "rdd3.collect()"
   ]
  },
  {
   "cell_type": "markdown",
   "id": "56c5c283-d908-43d5-940f-d3466fd83b43",
   "metadata": {},
   "source": [
    "## Join RDDs"
   ]
  },
  {
   "cell_type": "code",
   "execution_count": 64,
   "id": "1126d379-3650-41bf-bd58-545e0bd9b1ad",
   "metadata": {},
   "outputs": [
    {
     "data": {
      "text/plain": [
       "[('D', (34.0, 2.0)),\n",
       " ('D', (34.0, 32.0)),\n",
       " ('G', (56.0, 28.0)),\n",
       " ('G', (56.0, 28.0)),\n",
       " ('G', (56.0, -0.0)),\n",
       " ('B', (-10.0, 0.0)),\n",
       " ('B', (-10.0, -10.0)),\n",
       " ('H', (36.0, 4.0)),\n",
       " ('H', (36.0, 32.0)),\n",
       " ('A', (12.0, 2.0)),\n",
       " ('A', (12.0, -2.0)),\n",
       " ('A', (12.0, 6.0)),\n",
       " ('A', (12.0, 6.0)),\n",
       " ('E', (4.0, 4.0)),\n",
       " ('F', (2.0, -6.0)),\n",
       " ('F', (2.0, 8.0)),\n",
       " ('C', (24.0, 24.0))]"
      ]
     },
     "execution_count": 64,
     "metadata": {},
     "output_type": "execute_result"
    }
   ],
   "source": [
    "rdd4=rdd3.join(rdd2)\n",
    "rdd4.collect()"
   ]
  },
  {
   "cell_type": "markdown",
   "id": "f624d5d0-4c4f-47df-8a23-f86ce22670df",
   "metadata": {},
   "source": [
    "## Save rdd"
   ]
  },
  {
   "cell_type": "code",
   "execution_count": null,
   "id": "c51aa672-da44-44ea-b39a-ff1ea3937343",
   "metadata": {},
   "outputs": [],
   "source": [
    "rdd3.saveAsTextFile(\"./rdd3_output\")"
   ]
  },
  {
   "cell_type": "code",
   "execution_count": null,
   "id": "984d6419-cc9e-4a36-9c73-d15d224092fc",
   "metadata": {},
   "outputs": [],
   "source": []
  }
 ],
 "metadata": {
  "kernelspec": {
   "display_name": "Python 3 (ipykernel)",
   "language": "python",
   "name": "python3"
  },
  "language_info": {
   "codemirror_mode": {
    "name": "ipython",
    "version": 3
   },
   "file_extension": ".py",
   "mimetype": "text/x-python",
   "name": "python",
   "nbconvert_exporter": "python",
   "pygments_lexer": "ipython3",
   "version": "3.12.8"
  }
 },
 "nbformat": 4,
 "nbformat_minor": 5
}
