{
 "cells": [
  {
   "cell_type": "code",
   "execution_count": 3,
   "metadata": {
    "colab": {
     "base_uri": "https://localhost:8080/"
    },
    "id": "tywn3FUkRMms",
    "outputId": "8b896f11-a993-4286-9773-8e5ab577b6ff"
   },
   "outputs": [
    {
     "name": "stdout",
     "output_type": "stream",
     "text": [
      "Looking in indexes: https://pypi.org/simple, https://us-python.pkg.dev/colab-wheels/public/simple/\n",
      "Collecting pyspark\n",
      "  Downloading pyspark-3.4.0.tar.gz (310.8 MB)\n",
      "\u001b[2K     \u001b[90m━━━━━━━━━━━━━━━━━━━━━━━━━━━━━━━━━━━━━━━\u001b[0m \u001b[32m310.8/310.8 MB\u001b[0m \u001b[31m3.4 MB/s\u001b[0m eta \u001b[36m0:00:00\u001b[0m\n",
      "\u001b[?25h  Preparing metadata (setup.py) ... \u001b[?25l\u001b[?25hdone\n",
      "Requirement already satisfied: py4j==0.10.9.7 in /usr/local/lib/python3.9/dist-packages (from pyspark) (0.10.9.7)\n",
      "Building wheels for collected packages: pyspark\n",
      "  Building wheel for pyspark (setup.py) ... \u001b[?25l\u001b[?25hdone\n",
      "  Created wheel for pyspark: filename=pyspark-3.4.0-py2.py3-none-any.whl size=311317145 sha256=609b623f089cff0742c2cc0c80ee0008151906139b6fb5ba462ea5b0c84f0606\n",
      "  Stored in directory: /root/.cache/pip/wheels/9f/34/a4/159aa12d0a510d5ff7c8f0220abbea42e5d81ecf588c4fd884\n",
      "Successfully built pyspark\n",
      "Installing collected packages: pyspark\n",
      "Successfully installed pyspark-3.4.0\n"
     ]
    }
   ],
   "source": [
    "#!pip install pyspark"
   ]
  },
  {
   "cell_type": "code",
   "execution_count": 1,
   "metadata": {
    "id": "4j8EsiusQuo1"
   },
   "outputs": [],
   "source": [
    "## Spark implementation of the example of matrix multiplication in the INFOH515 slides \"Map-reduce analytics\" \n",
    "import os \n",
    "\n",
    "# Disable warnings, set Matplotlib inline plotting and load Pandas package\n",
    "import warnings\n",
    "warnings.filterwarnings('ignore')\n",
    "\n",
    "%matplotlib inline\n",
    "import pandas as pd\n",
    "#pd.options.display.mpl_style = 'default'"
   ]
  },
  {
   "cell_type": "code",
   "execution_count": 2,
   "metadata": {
    "id": "ceUMC8ETQ7r0"
   },
   "outputs": [
    {
     "name": "stderr",
     "output_type": "stream",
     "text": [
      "Setting default log level to \"WARN\".\n",
      "To adjust logging level use sc.setLogLevel(newLevel). For SparkR, use setLogLevel(newLevel).\n",
      "25/03/14 15:06:56 WARN NativeCodeLoader: Unable to load native-hadoop library for your platform... using builtin-java classes where applicable\n",
      "25/03/14 15:06:56 WARN Utils: Service 'SparkUI' could not bind on port 4040. Attempting port 4041.\n"
     ]
    }
   ],
   "source": [
    "import numpy as np\n",
    "import pwd\n",
    "import getpass\n",
    "from pyspark import SparkContext, SparkConf\n",
    "from pyspark.sql import SparkSession\n",
    "from pyspark.sql.functions import avg, sum\n",
    "userName = getpass.getuser()\n",
    "appName = pwd.getpwuid( os.getuid() )[ 0 ]\n",
    "\n",
    "sc = SparkContext(\"local\", appName)"
   ]
  },
  {
   "cell_type": "code",
   "execution_count": 3,
   "metadata": {
    "colab": {
     "base_uri": "https://localhost:8080/",
     "height": 35
    },
    "id": "C7T_pEXPRhXc",
    "outputId": "6478ba36-5fdd-45f2-edbb-3fa5f3a2ee10"
   },
   "outputs": [
    {
     "data": {
      "text/plain": [
       "'3.5.5'"
      ]
     },
     "execution_count": 3,
     "metadata": {},
     "output_type": "execute_result"
    }
   ],
   "source": [
    "sc.version"
   ]
  },
  {
   "cell_type": "code",
   "execution_count": 4,
   "metadata": {
    "id": "e-SURJBZRiyW"
   },
   "outputs": [],
   "source": [
    "# create an instance of SparkSession\n",
    "spark = SparkSession.builder.appName(\"demo\").getOrCreate()"
   ]
  },
  {
   "cell_type": "code",
   "execution_count": 15,
   "metadata": {
    "id": "nKlhR223RlAD"
   },
   "outputs": [],
   "source": [
    "def mapstep(x):\n",
    "    L=[] \n",
    "    matname=x[0]\n",
    "    if matname=='M':\n",
    "        i=int(x[1])\n",
    "        for j in range(1,MC+1):\n",
    "            L=L+[((int(i),k),(j,matname,int(x[1+j]))) for k in range(1,NC+1)]\n",
    "    if matname=='N':\n",
    "        j=int(x[1])\n",
    "        for k in range(1,NC+1):\n",
    "            L=L+[((int(i),k),(j,matname,int(x[1+k]))) for i in range(1,MR+1)]\n",
    "    return(L)"
   ]
  },
  {
   "cell_type": "code",
   "execution_count": 16,
   "metadata": {
    "id": "KDr-S7vMRpA5"
   },
   "outputs": [],
   "source": [
    "def redstep(x):\n",
    "    L=len(x)/3\n",
    "    i=0\n",
    "    vM=np.zeros(MC)\n",
    "    vN=np.zeros(MC)\n",
    "    while i <len(x):\n",
    "        if x[i+1]=='M':\n",
    "            vM[x[i]-1]=x[i+2]\n",
    "        if x[i+1]=='N':\n",
    "            vN[x[i]-1]=x[i+2]\n",
    "        i=i+3\n",
    "    return(np.sum(vM*vN))"
   ]
  },
  {
   "cell_type": "code",
   "execution_count": 23,
   "metadata": {
    "id": "96O7JmOGR1t4"
   },
   "outputs": [],
   "source": [
    "matr = sc.textFile(\"matrix\").map(lambda x : x.split(\",\"))"
   ]
  },
  {
   "cell_type": "code",
   "execution_count": 24,
   "metadata": {
    "id": "p-tqT9hVR6Sb"
   },
   "outputs": [
    {
     "data": {
      "text/plain": [
       "[['M', '1', '1', '2'],\n",
       " ['M', '2', '3', '4'],\n",
       " ['M', '3', '5', '6'],\n",
       " ['N', '1', '-1', '-2', '-3', '-4'],\n",
       " ['N', '2', '-5', '-6', '-7', '-8']]"
      ]
     },
     "execution_count": 24,
     "metadata": {},
     "output_type": "execute_result"
    }
   ],
   "source": [
    "matr.collect()"
   ]
  },
  {
   "cell_type": "code",
   "execution_count": 25,
   "metadata": {
    "id": "39-DYmpSR91j"
   },
   "outputs": [],
   "source": [
    "MR=matr.filter(lambda L: L[0]=='M').count()\n",
    "NR=matr.filter(lambda L: L[0]=='N').count()\n",
    "MC=len(matr.filter(lambda L: L[0]=='M').take(1)[0])-2\n",
    "NC=len(matr.filter(lambda L: L[0]=='N').take(1)[0])-2"
   ]
  },
  {
   "cell_type": "code",
   "execution_count": 26,
   "metadata": {
    "id": "C1LEp3GESEyN"
   },
   "outputs": [
    {
     "data": {
      "text/plain": [
       "[((1, 1), (1, 'M', 1)),\n",
       " ((1, 2), (1, 'M', 1)),\n",
       " ((1, 3), (1, 'M', 1)),\n",
       " ((1, 4), (1, 'M', 1)),\n",
       " ((1, 1), (2, 'M', 2)),\n",
       " ((1, 2), (2, 'M', 2)),\n",
       " ((1, 3), (2, 'M', 2)),\n",
       " ((1, 4), (2, 'M', 2)),\n",
       " ((2, 1), (1, 'M', 3)),\n",
       " ((2, 2), (1, 'M', 3)),\n",
       " ((2, 3), (1, 'M', 3)),\n",
       " ((2, 4), (1, 'M', 3)),\n",
       " ((2, 1), (2, 'M', 4)),\n",
       " ((2, 2), (2, 'M', 4)),\n",
       " ((2, 3), (2, 'M', 4)),\n",
       " ((2, 4), (2, 'M', 4)),\n",
       " ((3, 1), (1, 'M', 5)),\n",
       " ((3, 2), (1, 'M', 5)),\n",
       " ((3, 3), (1, 'M', 5)),\n",
       " ((3, 4), (1, 'M', 5)),\n",
       " ((3, 1), (2, 'M', 6)),\n",
       " ((3, 2), (2, 'M', 6)),\n",
       " ((3, 3), (2, 'M', 6)),\n",
       " ((3, 4), (2, 'M', 6)),\n",
       " ((1, 1), (1, 'N', -1)),\n",
       " ((2, 1), (1, 'N', -1)),\n",
       " ((3, 1), (1, 'N', -1)),\n",
       " ((1, 2), (1, 'N', -2)),\n",
       " ((2, 2), (1, 'N', -2)),\n",
       " ((3, 2), (1, 'N', -2)),\n",
       " ((1, 3), (1, 'N', -3)),\n",
       " ((2, 3), (1, 'N', -3)),\n",
       " ((3, 3), (1, 'N', -3)),\n",
       " ((1, 4), (1, 'N', -4)),\n",
       " ((2, 4), (1, 'N', -4)),\n",
       " ((3, 4), (1, 'N', -4)),\n",
       " ((1, 1), (2, 'N', -5)),\n",
       " ((2, 1), (2, 'N', -5)),\n",
       " ((3, 1), (2, 'N', -5)),\n",
       " ((1, 2), (2, 'N', -6)),\n",
       " ((2, 2), (2, 'N', -6)),\n",
       " ((3, 2), (2, 'N', -6)),\n",
       " ((1, 3), (2, 'N', -7)),\n",
       " ((2, 3), (2, 'N', -7)),\n",
       " ((3, 3), (2, 'N', -7)),\n",
       " ((1, 4), (2, 'N', -8)),\n",
       " ((2, 4), (2, 'N', -8)),\n",
       " ((3, 4), (2, 'N', -8))]"
      ]
     },
     "execution_count": 26,
     "metadata": {},
     "output_type": "execute_result"
    }
   ],
   "source": [
    "matr.flatMap(lambda x:mapstep(x) ).collect()"
   ]
  },
  {
   "cell_type": "code",
   "execution_count": 27,
   "metadata": {
    "id": "9zfw7ZnFSGou"
   },
   "outputs": [],
   "source": [
    "res=matr.flatMap(lambda x:mapstep(x) ).reduceByKey(lambda a,b:a+b).map(lambda a: (a[0],redstep(a[1])))"
   ]
  },
  {
   "cell_type": "code",
   "execution_count": 28,
   "metadata": {
    "id": "BQ1LtCJjSLtT"
   },
   "outputs": [
    {
     "data": {
      "text/plain": [
       "[((1, 1), -11.0),\n",
       " ((1, 2), -14.0),\n",
       " ((1, 3), -17.0),\n",
       " ((1, 4), -20.0),\n",
       " ((2, 1), -23.0),\n",
       " ((2, 2), -30.0),\n",
       " ((2, 3), -37.0),\n",
       " ((2, 4), -44.0),\n",
       " ((3, 1), -35.0),\n",
       " ((3, 2), -46.0),\n",
       " ((3, 3), -57.0),\n",
       " ((3, 4), -68.0)]"
      ]
     },
     "execution_count": 28,
     "metadata": {},
     "output_type": "execute_result"
    }
   ],
   "source": [
    "res.collect()"
   ]
  },
  {
   "cell_type": "code",
   "execution_count": 29,
   "metadata": {},
   "outputs": [
    {
     "data": {
      "text/plain": [
       "array([[-11, -14, -17, -20],\n",
       "       [-23, -30, -37, -44],\n",
       "       [-35, -46, -57, -68]])"
      ]
     },
     "execution_count": 29,
     "metadata": {},
     "output_type": "execute_result"
    }
   ],
   "source": [
    "M=np.array([[1,2],[3,4],[5,6]])\n",
    "N=np.array([[-1,-2,-3,-4], [-5,-6,-7,-8]])\n",
    "M@N"
   ]
  },
  {
   "cell_type": "code",
   "execution_count": null,
   "metadata": {},
   "outputs": [],
   "source": []
  }
 ],
 "metadata": {
  "colab": {
   "provenance": []
  },
  "kernelspec": {
   "display_name": "Python 3 (ipykernel)",
   "language": "python",
   "name": "python3"
  },
  "language_info": {
   "codemirror_mode": {
    "name": "ipython",
    "version": 3
   },
   "file_extension": ".py",
   "mimetype": "text/x-python",
   "name": "python",
   "nbconvert_exporter": "python",
   "pygments_lexer": "ipython3",
   "version": "3.12.8"
  }
 },
 "nbformat": 4,
 "nbformat_minor": 4
}
