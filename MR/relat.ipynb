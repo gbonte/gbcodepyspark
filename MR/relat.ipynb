{
 "cells": [
  {
   "cell_type": "markdown",
   "id": "f818c63d",
   "metadata": {},
   "source": [
    "## INFOH515 Pyspark code\n",
    "## Author: Gianluca Bontempi\n",
    "## Pyspark implementation of the union/intersection operations in the INFOH515 slides \"Map-reduce analytics\" "
   ]
  },
  {
   "cell_type": "code",
   "execution_count": 2,
   "id": "780de92f",
   "metadata": {},
   "outputs": [
    {
     "name": "stderr",
     "output_type": "stream",
     "text": [
      "Setting default log level to \"WARN\".\n",
      "To adjust logging level use sc.setLogLevel(newLevel). For SparkR, use setLogLevel(newLevel).\n",
      "25/03/17 14:13:42 WARN NativeCodeLoader: Unable to load native-hadoop library for your platform... using builtin-java classes where applicable\n",
      "25/03/17 14:13:43 WARN Utils: Service 'SparkUI' could not bind on port 4040. Attempting port 4041.\n",
      "25/03/17 14:13:43 WARN Utils: Service 'SparkUI' could not bind on port 4041. Attempting port 4042.\n",
      "25/03/17 14:13:43 WARN Utils: Service 'SparkUI' could not bind on port 4042. Attempting port 4043.\n"
     ]
    }
   ],
   "source": [
    "import numpy as np\n",
    "import pwd\n",
    "import getpass\n",
    "import os\n",
    "from pyspark import SparkContext, SparkConf\n",
    "from pyspark.sql import SparkSession\n",
    "from pyspark.sql.functions import avg, sum\n",
    "\n",
    "# create an instance of SparkSession\n",
    "spark=SparkSession.builder.appName('s.com').getOrCreate()\n",
    "sc=spark.sparkContext"
   ]
  },
  {
   "cell_type": "code",
   "execution_count": 68,
   "id": "a9ecd9eb",
   "metadata": {},
   "outputs": [],
   "source": [
    "Table1=[('Gianluca','M'), ('Lucia','F'),('Gaia', 'F'),('Mattia','M')]\n",
    "\n",
    "rdd1 = sc.parallelize([(row[0]+row[1], (row[0],row[1])) for  a,row in enumerate(Table1)])\n",
    "\n",
    "Table2=[('Gianluca','M'), ('Stijn','M'),('Gaia','F')]\n",
    "rdd2 = sc.parallelize([(row[0]+row[1], (row[0],row[1])) for  a,row in enumerate(Table2)])"
   ]
  },
  {
   "cell_type": "code",
   "execution_count": 69,
   "id": "c90d5f12",
   "metadata": {},
   "outputs": [
    {
     "data": {
      "text/plain": [
       "[('GianlucaM', ('Gianluca', 'M')),\n",
       " ('LuciaF', ('Lucia', 'F')),\n",
       " ('GaiaF', ('Gaia', 'F')),\n",
       " ('MattiaM', ('Mattia', 'M'))]"
      ]
     },
     "execution_count": 69,
     "metadata": {},
     "output_type": "execute_result"
    }
   ],
   "source": [
    "rdd1.collect()"
   ]
  },
  {
   "cell_type": "code",
   "execution_count": 70,
   "id": "f94a5946",
   "metadata": {},
   "outputs": [
    {
     "data": {
      "text/plain": [
       "[('GianlucaM', ('Gianluca', 'M')),\n",
       " ('LuciaF', ('Lucia', 'F')),\n",
       " ('GaiaF', ('Gaia', 'F')),\n",
       " ('MattiaM', ('Mattia', 'M')),\n",
       " ('GianlucaM', ('Gianluca', 'M')),\n",
       " ('StijnM', ('Stijn', 'M')),\n",
       " ('GaiaF', ('Gaia', 'F'))]"
      ]
     },
     "execution_count": 70,
     "metadata": {},
     "output_type": "execute_result"
    }
   ],
   "source": [
    "rdd=rdd1.union(rdd2)\n",
    "rdd.collect()"
   ]
  },
  {
   "cell_type": "markdown",
   "id": "875ad611",
   "metadata": {},
   "source": [
    "## Union"
   ]
  },
  {
   "cell_type": "code",
   "execution_count": 71,
   "id": "96b45bea",
   "metadata": {},
   "outputs": [
    {
     "data": {
      "text/plain": [
       "[('Gianluca', 'M'),\n",
       " ('Stijn', 'M'),\n",
       " ('Lucia', 'F'),\n",
       " ('Gaia', 'F'),\n",
       " ('Mattia', 'M')]"
      ]
     },
     "execution_count": 71,
     "metadata": {},
     "output_type": "execute_result"
    }
   ],
   "source": [
    "rdd.reduceByKey(lambda x, y: x).map(lambda x: x[1]).collect()"
   ]
  },
  {
   "cell_type": "markdown",
   "id": "3f4439c7",
   "metadata": {},
   "source": [
    "## Intersection"
   ]
  },
  {
   "cell_type": "code",
   "execution_count": 72,
   "id": "8016a166",
   "metadata": {},
   "outputs": [
    {
     "data": {
      "text/plain": [
       "[('Gianluca', 'M'), ('Gaia', 'F')]"
      ]
     },
     "execution_count": 72,
     "metadata": {},
     "output_type": "execute_result"
    }
   ],
   "source": [
    "\n",
    "def mapf(x):\n",
    "    if len(x)>2:\n",
    "        return((x[0],x[1]))\n",
    "rdd2=rdd.reduceByKey(lambda x, y: x+y)\n",
    "rdd2.mapValues(lambda x: mapf(x)).filter(lambda x: x[1] != None).map(lambda x:x[1]).collect()"
   ]
  },
  {
   "cell_type": "markdown",
   "id": "07a31a52",
   "metadata": {},
   "source": [
    "## Difference"
   ]
  },
  {
   "cell_type": "code",
   "execution_count": 82,
   "id": "75518303",
   "metadata": {},
   "outputs": [
    {
     "data": {
      "text/plain": [
       "[('GianlucaM', ('R', ('Gianluca', 'M'))),\n",
       " ('LuciaF', ('R', ('Lucia', 'F'))),\n",
       " ('GaiaF', ('R', ('Gaia', 'F'))),\n",
       " ('MattiaM', ('R', ('Mattia', 'M'))),\n",
       " ('GianlucaM', ('L', ('Gianluca', 'M'))),\n",
       " ('StijnM', ('L', ('Stijn', 'M'))),\n",
       " ('GaiaF', ('L', ('Gaia', 'F')))]"
      ]
     },
     "execution_count": 82,
     "metadata": {},
     "output_type": "execute_result"
    }
   ],
   "source": [
    "Table1=[('Gianluca','M'), ('Lucia','F'),('Gaia', 'F'),('Mattia','M')]\n",
    "\n",
    "rdd1 = sc.parallelize([(row[0]+row[1], ('R', (row[0],row[1]))) for  a,row in enumerate(Table1)])\n",
    "\n",
    "Table2=[('Gianluca','M'), ('Stijn','M'),('Gaia','F')]\n",
    "rdd2 = sc.parallelize([(row[0]+row[1], ('L', (row[0],row[1]))) for  a,row in enumerate(Table2)])\n",
    "rdd=rdd1.union(rdd2)\n",
    "rdd.collect()"
   ]
  },
  {
   "cell_type": "code",
   "execution_count": 136,
   "id": "c772100a",
   "metadata": {},
   "outputs": [
    {
     "data": {
      "text/plain": [
       "[('Gianluca', 'M'), ('Gaia', 'F')]"
      ]
     },
     "execution_count": 136,
     "metadata": {},
     "output_type": "execute_result"
    }
   ],
   "source": [
    "def count(tup, value):\n",
    "    cnt=0\n",
    "    for item in tup: \n",
    "        if item == value:\n",
    "            cnt=+1\n",
    "    return(cnt)\n",
    "\n",
    "\n",
    "def mapf(x):\n",
    "    if (len(x)>2):\n",
    "        if  ((count(x,'R')==1) & (count(x,'L')==1)) :\n",
    "            return(x[1])\n",
    "\n",
    "\n",
    "rdd2=rdd.reduceByKey(lambda x, y: x+y)\n",
    "rdd3=rdd2.mapValues(lambda x: mapf(x)).filter(lambda x: x[1] != None).map(lambda x:x[1])\n",
    "rdd3.collect()"
   ]
  },
  {
   "cell_type": "code",
   "execution_count": null,
   "id": "2d6426a3",
   "metadata": {},
   "outputs": [],
   "source": []
  }
 ],
 "metadata": {
  "kernelspec": {
   "display_name": "Python 3 (ipykernel)",
   "language": "python",
   "name": "python3"
  },
  "language_info": {
   "codemirror_mode": {
    "name": "ipython",
    "version": 3
   },
   "file_extension": ".py",
   "mimetype": "text/x-python",
   "name": "python",
   "nbconvert_exporter": "python",
   "pygments_lexer": "ipython3",
   "version": "3.11.7"
  }
 },
 "nbformat": 4,
 "nbformat_minor": 5
}
