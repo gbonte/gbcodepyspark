{
 "cells": [
  {
   "cell_type": "markdown",
   "id": "c532057c-baba-4970-87a3-2603950ac0e7",
   "metadata": {},
   "source": [
    "FORWARD FEATURE SELECTION"
   ]
  },
  {
   "cell_type": "code",
   "execution_count": 1,
   "id": "9c4142b2-9777-4af0-8f5d-d60c969f2ea2",
   "metadata": {
    "scrolled": true
   },
   "outputs": [
    {
     "name": "stderr",
     "output_type": "stream",
     "text": [
      "Setting default log level to \"WARN\".\n",
      "To adjust logging level use sc.setLogLevel(newLevel). For SparkR, use setLogLevel(newLevel).\n",
      "24/03/07 17:08:11 WARN NativeCodeLoader: Unable to load native-hadoop library for your platform... using builtin-java classes where applicable\n",
      "24/03/07 17:08:12 WARN Utils: Service 'SparkUI' could not bind on port 4040. Attempting port 4041.\n",
      "24/03/07 17:08:12 WARN Utils: Service 'SparkUI' could not bind on port 4041. Attempting port 4042.\n",
      "24/03/07 17:08:12 WARN Utils: Service 'SparkUI' could not bind on port 4042. Attempting port 4043.\n",
      "24/03/07 17:08:12 WARN Utils: Service 'SparkUI' could not bind on port 4043. Attempting port 4044.\n"
     ]
    }
   ],
   "source": [
    "import os \n",
    "import pwd\n",
    "# Disable warnings, set Matplotlib inline plotting and load Pandas package\n",
    "import numpy as np\n",
    "import getpass\n",
    "from pyspark import SparkContext, SparkConf\n",
    "\n",
    "userName = getpass.getuser()\n",
    "appName = pwd.getpwuid( os.getuid() )[ 0 ]\n",
    "\n",
    "sc = SparkContext(\"local\", appName)"
   ]
  },
  {
   "cell_type": "code",
   "execution_count": 2,
   "id": "cb6ea476-61f3-4405-9827-38125f27a80d",
   "metadata": {},
   "outputs": [],
   "source": [
    "import numpy as np\n",
    "import pandas as pd\n",
    "import matplotlib.pyplot as plt\n",
    "from sklearn import preprocessing\n",
    "import pickle\n",
    "import csv\n",
    "from sklearn.ensemble import RandomForestRegressor\n",
    "from sklearn import linear_model\n",
    "import sklearn.metrics as sm\n",
    "from sklearn.tree import DecisionTreeRegressor\n",
    "from sklearn.ensemble import AdaBoostRegressor\n",
    "from sklearn import datasets\n",
    "from sklearn.metrics import mean_squared_error, explained_variance_score\n",
    "from sklearn.utils import shuffle\n",
    "from sklearn import datasets\n",
    "from sklearn import model_selection"
   ]
  },
  {
   "cell_type": "code",
   "execution_count": 4,
   "id": "8357ff69-8e78-4976-9368-d28d0b232fec",
   "metadata": {},
   "outputs": [],
   "source": [
    "dataset = sc.textFile(\"DXY\").map(lambda x : x.split(\",\")).map(lambda x : np.array([float(i) for i in x]))\n",
    "n=int(dataset.map(lambda x:len(x)).take(1)[0])-1\n",
    "## n is the number of input features"
   ]
  },
  {
   "cell_type": "markdown",
   "id": "2038caee-17df-4d2d-a2f4-b1895a653dc4",
   "metadata": {},
   "source": [
    "Memory-resident least-squares implementation"
   ]
  },
  {
   "cell_type": "code",
   "execution_count": 5,
   "id": "86934b37-1a04-4fa8-a2dc-e7e84ffef14f",
   "metadata": {},
   "outputs": [],
   "source": [
    "def error(X,y):\n",
    "    # returns training error for a least-squares model\n",
    "    linear_regressor = linear_model.LinearRegression()\n",
    "\n",
    "    # Train the model using the training sets\n",
    "    linear_regressor.fit(X, y)\n",
    "    ypred = linear_regressor.predict(X)\n",
    "    \n",
    "    return np.mean((pow(y-ypred,2.0)))"
   ]
  },
  {
   "cell_type": "markdown",
   "id": "2b88846c-d3c4-41a6-9583-ced5d355783d",
   "metadata": {},
   "source": [
    "Map function x-> (col, ([x[col],x[selected],x[-1]))"
   ]
  },
  {
   "cell_type": "code",
   "execution_count": 6,
   "id": "161f978b-bb1d-407f-845b-9b9760b5aec7",
   "metadata": {},
   "outputs": [],
   "source": [
    "def mapf(x):\n",
    "    l=len(x)\n",
    "    s=len(bselected.value)\n",
    "    # map has access to the brodcasted set of selected features\n",
    "    outm=[]\n",
    "    for i in range(1,l-1):\n",
    "        if (not i in bselected.value):\n",
    "            if s>0:\n",
    "                outm=outm+[(i, (x[[i]+bselected.value+[l-1]]))]\n",
    "            else:\n",
    "                outm=outm+[(i, (x[[i]+[l-1]]))]\n",
    "                ## concatenates the values of the considered feature and the selected features\n",
    "    return(outm)"
   ]
  },
  {
   "cell_type": "markdown",
   "id": "3d85b89a-f73c-402c-891c-97118445826b",
   "metadata": {},
   "source": [
    "Map outcome at the first step of forward selection¶"
   ]
  },
  {
   "cell_type": "code",
   "execution_count": 7,
   "id": "75fac46a-5d84-45d4-91bc-02e973701974",
   "metadata": {},
   "outputs": [
    {
     "data": {
      "text/plain": [
       "[(1,\n",
       "  array([[ 1., 12.],\n",
       "         [ 2., 14.],\n",
       "         [ 3., 16.],\n",
       "         [ 4., 10.],\n",
       "         [ 1., 12.],\n",
       "         [ 2., 16.]])),\n",
       " (2,\n",
       "  array([[-1., 12.],\n",
       "         [-3., 14.],\n",
       "         [-5., 16.],\n",
       "         [-0., 10.],\n",
       "         [-1., 12.],\n",
       "         [-5., 16.]])),\n",
       " (3,\n",
       "  array([[ 0., 12.],\n",
       "         [14., 14.],\n",
       "         [16., 16.],\n",
       "         [10., 10.],\n",
       "         [12., 12.],\n",
       "         [16., 16.]]))]"
      ]
     },
     "execution_count": 7,
     "metadata": {},
     "output_type": "execute_result"
    }
   ],
   "source": [
    "selected=[]\n",
    "# At the beginnin gselected is empty\n",
    "\n",
    "bselected = sc.broadcast(selected)\n",
    "# it broadcasts the set of already selected featuresD=dataset.flatMap(lambda x: mapf(x))\n",
    "D=dataset.flatMap(lambda x: mapf(x)).reduceByKey(lambda a,b: np.vstack((a,b)))\n",
    "# for each non selected feature, it returns both the input and the output\n",
    "D.collect()"
   ]
  },
  {
   "cell_type": "code",
   "execution_count": 8,
   "id": "fcc8ee57-bbc7-4c84-9ac6-6bd9cb4e92bd",
   "metadata": {},
   "outputs": [
    {
     "data": {
      "text/plain": [
       "[(1, 4.845528455284553), (2, 0.09456264775413693), (3, 2.9999999999999987)]"
      ]
     },
     "execution_count": 8,
     "metadata": {},
     "output_type": "execute_result"
    }
   ],
   "source": [
    "# it computes the error for each considered feature\n",
    "# error function takes as input A (in this case a single column) and y \n",
    "D.reduceByKey(lambda a,b: np.vstack((a,b))).map(lambda x: (x[0],error(x[1][:,:-1],x[1][:,-1]))).collect()"
   ]
  },
  {
   "cell_type": "markdown",
   "id": "b511856e-da0b-46fa-b719-824b4f49f094",
   "metadata": {},
   "source": [
    "Map outcome at the first step of forward selection¶"
   ]
  },
  {
   "cell_type": "code",
   "execution_count": 9,
   "id": "887da22f-2ebb-4a21-89a7-efe38a2643f4",
   "metadata": {},
   "outputs": [
    {
     "data": {
      "text/plain": [
       "[(2,\n",
       "  array([[-1.,  1., 12.],\n",
       "         [-3.,  2., 14.],\n",
       "         [-5.,  3., 16.],\n",
       "         [-0.,  4., 10.],\n",
       "         [-1.,  1., 12.],\n",
       "         [-5.,  2., 16.]])),\n",
       " (3,\n",
       "  array([[ 0.,  1., 12.],\n",
       "         [14.,  2., 14.],\n",
       "         [16.,  3., 16.],\n",
       "         [10.,  4., 10.],\n",
       "         [12.,  1., 12.],\n",
       "         [16.,  2., 16.]]))]"
      ]
     },
     "execution_count": 9,
     "metadata": {},
     "output_type": "execute_result"
    }
   ],
   "source": [
    "selected=[1]\n",
    "#suppose that the first selected variable is the number 1\n",
    "\n",
    "bselected = sc.broadcast(selected)\n",
    "# it broadcasts the set of already selected featuresD=dataset.flatMap(lambda x: mapf(x))\n",
    "D=dataset.flatMap(lambda x: mapf(x)).reduceByKey(lambda a,b: np.vstack((a,b)))\n",
    "# for each non selected feature, it returns both the input and the output\n",
    "D.collect()"
   ]
  },
  {
   "cell_type": "markdown",
   "id": "a7f8577e-6c9c-435d-a1de-d701cd23dc30",
   "metadata": {},
   "source": [
    "Forward selection¶"
   ]
  },
  {
   "cell_type": "code",
   "execution_count": 10,
   "id": "aded6d35-ad02-4399-8053-d9c670a5c31d",
   "metadata": {},
   "outputs": [
    {
     "name": "stdout",
     "output_type": "stream",
     "text": [
      "0.09456264775413693\n",
      "[2]\n",
      "0.007623007623007732\n",
      "[2, 1]\n",
      "0.007600147780651309\n",
      "[2, 1, 3]\n"
     ]
    }
   ],
   "source": [
    "selected=[]\n",
    "bselected = sc.broadcast(selected)\n",
    "# it broadcasts the set of already selected features\n",
    "\n",
    "\n",
    "for j in range(n-1):\n",
    "    D=dataset.flatMap(lambda x: mapf(x))\n",
    "    ERR=D.reduceByKey(lambda a,b: np.vstack((a,b))).map(lambda x: (x[0],error(x[1][:,:-1],x[1][:,-1]))).collect()\n",
    "    bestfs=0\n",
    "    bestErr=100\n",
    "    for i in range(len(ERR)):\n",
    "        if ERR[i][1]<bestErr:\n",
    "            bestErr=ERR[i][1]\n",
    "            bestfs=ERR[i][0]\n",
    "    print(bestErr)\n",
    "    selected=selected+[bestfs]\n",
    "    bselected = sc.broadcast(selected)\n",
    "    print(selected)"
   ]
  },
  {
   "cell_type": "code",
   "execution_count": null,
   "id": "b3c0ee2c-addc-46a0-9f69-beca034e22c1",
   "metadata": {},
   "outputs": [],
   "source": []
  }
 ],
 "metadata": {
  "kernelspec": {
   "display_name": "Python 3 (Spyder)",
   "language": "python3",
   "name": "python3"
  },
  "language_info": {
   "codemirror_mode": {
    "name": "ipython",
    "version": 3
   },
   "file_extension": ".py",
   "mimetype": "text/x-python",
   "name": "python",
   "nbconvert_exporter": "python",
   "pygments_lexer": "ipython3",
   "version": "3.11.7"
  }
 },
 "nbformat": 4,
 "nbformat_minor": 5
}
