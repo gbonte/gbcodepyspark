{
 "cells": [
  {
   "cell_type": "markdown",
   "metadata": {},
   "source": [
    "## INFOH515 Pyspark code\n",
    "## Author: Gianluca Bontempi\n",
    "## Pyspark implementation of K-means"
   ]
  },
  {
   "cell_type": "code",
   "execution_count": 1,
   "metadata": {
    "id": "9pvPiVBUZGxP"
   },
   "outputs": [
    {
     "name": "stderr",
     "output_type": "stream",
     "text": [
      "Setting default log level to \"WARN\".\n",
      "To adjust logging level use sc.setLogLevel(newLevel). For SparkR, use setLogLevel(newLevel).\n",
      "25/03/14 17:11:44 WARN NativeCodeLoader: Unable to load native-hadoop library for your platform... using builtin-java classes where applicable\n"
     ]
    }
   ],
   "source": [
    "import numpy as np\n",
    "import pwd\n",
    "import getpass\n",
    "import os\n",
    "from pyspark import SparkContext, SparkConf\n",
    "from pyspark.sql import SparkSession\n",
    "from pyspark.sql.functions import avg, sum\n",
    "userName = getpass.getuser()\n",
    "appName = pwd.getpwuid( os.getuid() )[ 0 ]\n",
    "\n",
    "\n",
    "# create an instance of SparkSession\n",
    "spark=SparkSession.builder.appName('s.com').getOrCreate()\n",
    "sc=spark.sparkContext"
   ]
  },
  {
   "cell_type": "markdown",
   "metadata": {},
   "source": [
    "## Import dataset"
   ]
  },
  {
   "cell_type": "code",
   "execution_count": 2,
   "metadata": {
    "id": "YzOlTdEIZN5E"
   },
   "outputs": [],
   "source": [
    "dataset = sc.textFile(\"Dclust.txt\").map(lambda x : x.split(\",\")).map(lambda x : [float(i) for i in x])"
   ]
  },
  {
   "cell_type": "code",
   "execution_count": 3,
   "metadata": {
    "colab": {
     "base_uri": "https://localhost:8080/"
    },
    "id": "WbpJ3h0DZSp1",
    "outputId": "cdf03795-c95e-44c1-a4e1-8352654f4891"
   },
   "outputs": [
    {
     "name": "stderr",
     "output_type": "stream",
     "text": [
      "[Stage 0:>                                                          (0 + 1) / 1]"
     ]
    },
    {
     "name": "stdout",
     "output_type": "stream",
     "text": [
      "N= 258 n= 4\n"
     ]
    },
    {
     "name": "stderr",
     "output_type": "stream",
     "text": [
      "                                                                                "
     ]
    }
   ],
   "source": [
    "n=len(dataset.take(1)[0])-1\n",
    "print('N=',dataset.count(), 'n=', n)"
   ]
  },
  {
   "cell_type": "markdown",
   "metadata": {},
   "source": [
    "#### Mapstep function: returns the closest cluster for a given observation"
   ]
  },
  {
   "cell_type": "code",
   "execution_count": 30,
   "metadata": {
    "id": "4KTjyopzZVx4"
   },
   "outputs": [],
   "source": [
    "def mapstep(x,CL):\n",
    "    M=CL.value.shape[0]\n",
    "    d=np.zeros(M)\n",
    "    for m in np.arange(M):\n",
    "        d[m]=np.sum(abs(x[1:]-CL.value[m,]))\n",
    "    \n",
    "    return(np.argmin(d))   "
   ]
  },
  {
   "cell_type": "markdown",
   "metadata": {},
   "source": [
    "### K-means implementation"
   ]
  },
  {
   "cell_type": "code",
   "execution_count": 31,
   "metadata": {
    "id": "aAFckTeQZWxM"
   },
   "outputs": [
    {
     "name": "stdout",
     "output_type": "stream",
     "text": [
      "it= 0 K= 3 clusters \n",
      " position= [[-0.11193304  0.2937566  -0.49111279  0.18846489]\n",
      " [ 1.60407815  0.75034265  0.30560988  1.32770685]\n",
      " [ 0.70036898 -0.78355826  0.01855897 -0.41265748]]\n",
      "it= 1 K= 3 clusters \n",
      " position= [[-0.20207675  0.40478273 -0.588075    0.07488165]\n",
      " [ 0.46783018 -0.84023923  0.03481103 -0.32099468]\n",
      " [ 1.28587506  0.64414552 -0.05656896  1.03275604]]\n",
      "it= 2 K= 3 clusters \n",
      " position= [[ 1.09506323  0.60577873 -0.08841171  0.85327946]\n",
      " [-0.21141209  0.44369733 -0.7012311  -0.02562208]\n",
      " [ 0.36021018 -0.87168795  0.0929273  -0.24424991]]\n",
      "it= 3 K= 3 clusters \n",
      " position= [[ 0.86756923  0.52206512  0.08239691  0.82293908]\n",
      " [ 0.31177611 -0.90357751  0.12830594 -0.26249004]\n",
      " [-0.21021995  0.39303251 -0.88835434 -0.16355409]]\n",
      "it= 4 K= 3 clusters \n",
      " position= [[ 0.76194065  0.54374624  0.11537969  0.76496201]\n",
      " [-0.20220866  0.29949696 -1.0088327  -0.24713719]\n",
      " [ 0.34433353 -0.92766782  0.24630479 -0.20481259]]\n",
      "it= 5 K= 3 clusters \n",
      " position= [[ 0.74889729  0.55726331  0.13033832  0.69694689]\n",
      " [ 0.32313579 -0.95653478  0.29598376 -0.19464374]\n",
      " [-0.18262882  0.25758931 -1.04346703 -0.23407568]]\n",
      "it= 6 K= 3 clusters \n",
      " position= [[ 0.7124467   0.65753123  0.22171456  0.66895372]\n",
      " [-0.17391819  0.25750094 -1.04670568 -0.22675835]\n",
      " [ 0.36029886 -1.02155545  0.23288317 -0.15748185]]\n",
      "it= 7 K= 3 clusters \n",
      " position= [[ 0.68601641  0.70747707  0.30476469  0.61650252]\n",
      " [ 0.37481743 -1.0226197   0.20190079 -0.12517614]\n",
      " [-0.15594633  0.24473464 -1.06549162 -0.20098862]]\n",
      "it= 8 K= 3 clusters \n",
      " position= [[ 0.64930167  0.76469608  0.36214126  0.55055742]\n",
      " [-0.13071698  0.22278602 -1.09761638 -0.16154005]\n",
      " [ 0.37741348 -1.0218592   0.19584027 -0.11118509]]\n",
      "it= 9 K= 3 clusters \n",
      " position= [[ 0.62020494  0.80014414  0.44730102  0.52130405]\n",
      " [ 0.37151756 -1.02511772  0.21646033 -0.11767007]\n",
      " [-0.08854029  0.20164462 -1.12775486 -0.12435067]]\n",
      "it= 10 K= 3 clusters \n",
      " position= [[ 0.58024666  0.82901727  0.50097431  0.50554502]\n",
      " [-0.03677816  0.18426368 -1.12447645 -0.09216259]\n",
      " [ 0.36163095 -1.03980058  0.24067832 -0.13283921]]\n",
      "it= 11 K= 3 clusters \n",
      " position= [[ 0.54155322  0.82793834  0.52653089  0.4952763 ]\n",
      " [ 0.36215136 -1.0513942   0.23073228 -0.13677063]\n",
      " [-0.01114129  0.18234536 -1.1199264  -0.08372299]]\n",
      "it= 12 K= 3 clusters \n",
      " position= [[ 0.53921429  0.81741312  0.52902919  0.48580239]\n",
      " [-0.01114129  0.18234536 -1.1199264  -0.08372299]\n",
      " [ 0.36183846 -1.06620255  0.2249737  -0.13685524]]\n",
      "it= 13 K= 3 clusters \n",
      " position= [[ 0.53921429  0.81741312  0.52902919  0.48580239]\n",
      " [ 0.36183846 -1.06620255  0.2249737  -0.13685524]\n",
      " [-0.01114129  0.18234536 -1.1199264  -0.08372299]]\n",
      "it= 14 K= 3 clusters \n",
      " position= [[ 0.53921429  0.81741312  0.52902919  0.48580239]\n",
      " [-0.01114129  0.18234536 -1.1199264  -0.08372299]\n",
      " [ 0.36183846 -1.06620255  0.2249737  -0.13685524]]\n",
      "it= 15 K= 3 clusters \n",
      " position= [[ 0.53921429  0.81741312  0.52902919  0.48580239]\n",
      " [ 0.36183846 -1.06620255  0.2249737  -0.13685524]\n",
      " [-0.01114129  0.18234536 -1.1199264  -0.08372299]]\n",
      "it= 16 K= 3 clusters \n",
      " position= [[ 0.53921429  0.81741312  0.52902919  0.48580239]\n",
      " [-0.01114129  0.18234536 -1.1199264  -0.08372299]\n",
      " [ 0.36183846 -1.06620255  0.2249737  -0.13685524]]\n",
      "it= 17 K= 3 clusters \n",
      " position= [[ 0.53921429  0.81741312  0.52902919  0.48580239]\n",
      " [ 0.36183846 -1.06620255  0.2249737  -0.13685524]\n",
      " [-0.01114129  0.18234536 -1.1199264  -0.08372299]]\n",
      "it= 18 K= 3 clusters \n",
      " position= [[ 0.53921429  0.81741312  0.52902919  0.48580239]\n",
      " [-0.01114129  0.18234536 -1.1199264  -0.08372299]\n",
      " [ 0.36183846 -1.06620255  0.2249737  -0.13685524]]\n",
      "it= 19 K= 3 clusters \n",
      " position= [[ 0.53921429  0.81741312  0.52902919  0.48580239]\n",
      " [ 0.36183846 -1.06620255  0.2249737  -0.13685524]\n",
      " [-0.01114129  0.18234536 -1.1199264  -0.08372299]]\n"
     ]
    }
   ],
   "source": [
    "np.random.seed(0)\n",
    "K=3 ## number of clusters\n",
    "\n",
    "Bcl=np.random.randn(K,n) ## random initialization\n",
    "broadcastClusters = sc.broadcast(Bcl) ## broadcast cluster position\n",
    "broadcastClusters.value\n",
    "\n",
    "for it in range(20):\n",
    "    d2=dataset.map(lambda x: (mapstep(x,broadcastClusters),(np.array(x),1)))  ## mapstep\n",
    "    newC=d2.reduceByKey(lambda a,b: (a[0]+b[0],a[1]+b[1])).map(lambda x: x[1][0][1:]/x[1][1]).take(K)\n",
    "    M=len(newC)\n",
    "    Bcl=2*np.random.randn(K,n)\n",
    "    for k in range(K):\n",
    "        Bcl[k]=newC[k]\n",
    "    broadcastClusters = sc.broadcast(Bcl)  ## update braodcast value\n",
    "    print('it=',it, \"K=\",K, \"clusters \\n position=\",Bcl)"
   ]
  },
  {
   "cell_type": "code",
   "execution_count": null,
   "metadata": {},
   "outputs": [],
   "source": []
  }
 ],
 "metadata": {
  "colab": {
   "provenance": []
  },
  "kernelspec": {
   "display_name": "Python 3 (ipykernel)",
   "language": "python",
   "name": "python3"
  },
  "language_info": {
   "codemirror_mode": {
    "name": "ipython",
    "version": 3
   },
   "file_extension": ".py",
   "mimetype": "text/x-python",
   "name": "python",
   "nbconvert_exporter": "python",
   "pygments_lexer": "ipython3",
   "version": "3.12.8"
  }
 },
 "nbformat": 4,
 "nbformat_minor": 4
}
