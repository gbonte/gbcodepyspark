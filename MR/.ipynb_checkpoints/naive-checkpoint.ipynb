{
  "nbformat": 4,
  "nbformat_minor": 0,
  "metadata": {
    "colab": {
      "provenance": []
    },
    "kernelspec": {
      "name": "python3",
      "display_name": "Python 3"
    },
    "language_info": {
      "name": "python"
    }
  },
  "cells": [
    {
      "cell_type": "code",
      "execution_count": 3,
      "metadata": {
        "colab": {
          "base_uri": "https://localhost:8080/"
        },
        "id": "joKukjpeUvg-",
        "outputId": "efbdb160-48ee-451a-8394-b3f58ef95331"
      },
      "outputs": [
        {
          "output_type": "stream",
          "name": "stdout",
          "text": [
            "Looking in indexes: https://pypi.org/simple, https://us-python.pkg.dev/colab-wheels/public/simple/\n",
            "Collecting pyspark\n",
            "  Downloading pyspark-3.4.0.tar.gz (310.8 MB)\n",
            "\u001b[2K     \u001b[90m━━━━━━━━━━━━━━━━━━━━━━━━━━━━━━━━━━━━━━━\u001b[0m \u001b[32m310.8/310.8 MB\u001b[0m \u001b[31m4.3 MB/s\u001b[0m eta \u001b[36m0:00:00\u001b[0m\n",
            "\u001b[?25h  Preparing metadata (setup.py) ... \u001b[?25l\u001b[?25hdone\n",
            "Requirement already satisfied: py4j==0.10.9.7 in /usr/local/lib/python3.9/dist-packages (from pyspark) (0.10.9.7)\n",
            "Building wheels for collected packages: pyspark\n",
            "  Building wheel for pyspark (setup.py) ... \u001b[?25l\u001b[?25hdone\n",
            "  Created wheel for pyspark: filename=pyspark-3.4.0-py2.py3-none-any.whl size=311317145 sha256=adf430263e21ad7b580fd2117f6a22fd44fcaeb0489ff1bac25d7dc3bdbd42b7\n",
            "  Stored in directory: /root/.cache/pip/wheels/9f/34/a4/159aa12d0a510d5ff7c8f0220abbea42e5d81ecf588c4fd884\n",
            "Successfully built pyspark\n",
            "Installing collected packages: pyspark\n",
            "Successfully installed pyspark-3.4.0\n"
          ]
        }
      ],
      "source": [
        "!pip install pyspark\n",
        "# To install pyspark in colab.research.google.com"
      ]
    },
    {
      "cell_type": "code",
      "source": [
        "## Spark implementation of the Naive Bayes classifier described in the INFOH515 \"Map-reduce analytics\" slides\n",
        "\n",
        "import os \n",
        "import pwd\n",
        "# Disable warnings, set Matplotlib inline plotting and load Pandas package\n",
        "import numpy as np\n",
        "import getpass\n",
        "from pyspark import SparkContext, SparkConf\n",
        "\n",
        "userName = getpass.getuser()\n",
        "appName = pwd.getpwuid( os.getuid() )[ 0 ]\n",
        "\n",
        "sc = SparkContext(\"local\", appName)"
      ],
      "metadata": {
        "id": "LC_uNQ0nUz4_"
      },
      "execution_count": 4,
      "outputs": []
    },
    {
      "cell_type": "code",
      "source": [
        "dataset = sc.textFile(\"naiveDATA\").map(lambda x : x.split(\",\"))"
      ],
      "metadata": {
        "id": "cZXS4LT0VKIR"
      },
      "execution_count": 5,
      "outputs": []
    },
    {
      "cell_type": "code",
      "source": [
        "dataset.collect()"
      ],
      "metadata": {
        "colab": {
          "base_uri": "https://localhost:8080/"
        },
        "id": "kp20zGz_VNSr",
        "outputId": "3f5c58e8-c4b5-4a01-9b92-89d6ecc5b44b"
      },
      "execution_count": 6,
      "outputs": [
        {
          "output_type": "execute_result",
          "data": {
            "text/plain": [
              "[['1', 'Sunny', 'Hot', 'High', 'Weak', 'NO'],\n",
              " ['2', 'Sunny', 'Hot', 'High', 'Strong', 'NO'],\n",
              " ['3', 'Overcast', 'Hot', 'High', 'Weak', 'YES'],\n",
              " ['4', 'Rain', 'Mild', 'High', 'Weak', 'YES'],\n",
              " ['5', 'Rain', 'Cool', 'Normal', 'Weak', 'YES'],\n",
              " ['6', 'Rain', 'Cool', 'Normal', 'Strong', 'NO'],\n",
              " ['7', 'Overcast', 'Cool', 'Normal', 'Strong', 'YES'],\n",
              " ['8', 'Sunny', 'Mild', 'High', 'Weak', 'NO'],\n",
              " ['9', 'Sunny', 'Cool', 'Normal', 'Weak', 'YES'],\n",
              " ['10', 'Rain', 'Mild', 'Normal', 'Weak', 'YES'],\n",
              " ['11', 'Sunny', 'Mild', 'Normal', 'Strong', 'YES'],\n",
              " ['12', 'Overcast', 'Mild', 'High', 'Strong', 'YES'],\n",
              " ['13', 'Overcast', 'Hot', 'Normal', 'Weak', 'YES'],\n",
              " ['14', 'Rain', 'Mild', 'High', 'Strong', 'NO'],\n",
              " ['']]"
            ]
          },
          "metadata": {},
          "execution_count": 6
        }
      ]
    },
    {
      "cell_type": "code",
      "source": [
        "NB=dataset.flatMap(lambda x: [((x[i],x[-1]),1) for i in range(1,len(x))]).reduceByKey(lambda a,b:a+b)"
      ],
      "metadata": {
        "id": "9-WioIMhVQsc"
      },
      "execution_count": 7,
      "outputs": []
    },
    {
      "cell_type": "code",
      "source": [
        "NB.collect()"
      ],
      "metadata": {
        "colab": {
          "base_uri": "https://localhost:8080/"
        },
        "id": "M1Z5oeSmXOaG",
        "outputId": "8340888b-09eb-46d6-a1a1-6ba1fc4603ee"
      },
      "execution_count": 8,
      "outputs": [
        {
          "output_type": "execute_result",
          "data": {
            "text/plain": [
              "[(('Sunny', 'NO'), 3),\n",
              " (('Hot', 'NO'), 2),\n",
              " (('High', 'NO'), 4),\n",
              " (('Weak', 'NO'), 2),\n",
              " (('NO', 'NO'), 5),\n",
              " (('Strong', 'NO'), 3),\n",
              " (('Overcast', 'YES'), 4),\n",
              " (('Hot', 'YES'), 2),\n",
              " (('High', 'YES'), 3),\n",
              " (('Weak', 'YES'), 6),\n",
              " (('YES', 'YES'), 9),\n",
              " (('Rain', 'YES'), 3),\n",
              " (('Mild', 'YES'), 4),\n",
              " (('Cool', 'YES'), 3),\n",
              " (('Normal', 'YES'), 6),\n",
              " (('Rain', 'NO'), 2),\n",
              " (('Cool', 'NO'), 1),\n",
              " (('Normal', 'NO'), 1),\n",
              " (('Strong', 'YES'), 3),\n",
              " (('Mild', 'NO'), 2),\n",
              " (('Sunny', 'YES'), 2)]"
            ]
          },
          "metadata": {},
          "execution_count": 8
        }
      ]
    },
    {
      "cell_type": "code",
      "source": [
        "classval=\"NO\"\n",
        "xval=\"Sunny\"\n",
        "Num=NB.filter(lambda x : x[0][0]==xval and x[0][1]==classval).map(lambda x: x[1]).collect()[0]\n",
        "Den=NB.filter(lambda x : x[0][0]==classval and x[0][1]==classval).map(lambda x: x[1]).collect()[0]"
      ],
      "metadata": {
        "id": "i7maBbXpXRj-"
      },
      "execution_count": 9,
      "outputs": []
    },
    {
      "cell_type": "code",
      "source": [
        "Num/Den"
      ],
      "metadata": {
        "id": "daX5szNsXWJz"
      },
      "execution_count": null,
      "outputs": []
    }
  ]
}