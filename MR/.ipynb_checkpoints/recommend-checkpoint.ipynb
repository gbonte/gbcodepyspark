{
 "cells": [
  {
   "cell_type": "markdown",
   "id": "a54ece64",
   "metadata": {},
   "source": [
    "## INFOH515 Pyspark code\n",
    "## Author: Gianluca Bontempi\n",
    "## Pyspark implementation of the nearest-neighbour recommandation in the INFOH515 slides \"Map-reduce analytics\""
   ]
  },
  {
   "cell_type": "code",
   "execution_count": 2,
   "id": "5c2230b7",
   "metadata": {},
   "outputs": [
    {
     "name": "stderr",
     "output_type": "stream",
     "text": [
      "Setting default log level to \"WARN\".\n",
      "To adjust logging level use sc.setLogLevel(newLevel). For SparkR, use setLogLevel(newLevel).\n",
      "25/03/19 16:27:29 WARN NativeCodeLoader: Unable to load native-hadoop library for your platform... using builtin-java classes where applicable\n"
     ]
    }
   ],
   "source": [
    "import numpy as np\n",
    "import pwd\n",
    "import getpass\n",
    "import os\n",
    "from pyspark import SparkContext, SparkConf\n",
    "from pyspark.sql import SparkSession\n",
    "from pyspark.sql.functions import avg, sum\n",
    "\n",
    "# create an instance of SparkSession\n",
    "spark=SparkSession.builder.appName('s.com').getOrCreate()\n",
    "sc=spark.sparkContext"
   ]
  },
  {
   "cell_type": "code",
   "execution_count": null,
   "id": "dae94042",
   "metadata": {},
   "outputs": [],
   "source": [
    "\n",
    "\n",
    "\n",
    "U=1000  ## number users\n",
    "P=150  ## number products\n",
    "\n",
    "Ratings = np.random.choice(np.arange(6), size=(U, P), replace=True)\n",
    "\n",
    "## rate=0 corresponds to missing data\n",
    "\n",
    "NewUser=np.random.choice(np.arange(1,6), size=(1, P), replace=True).flatten()\n",
    "\n",
    "NewUser[2]=0\n",
    "\n",
    "broadcastNewUser = sc.broadcast(NewUser)\n"
   ]
  },
  {
   "cell_type": "code",
   "execution_count": null,
   "id": "9e479f99",
   "metadata": {},
   "outputs": [],
   "source": [
    "rdd = sc.parallelize([(i, row) for i, row in enumerate(Ratings)])"
   ]
  },
  {
   "cell_type": "code",
   "execution_count": null,
   "id": "10378d41",
   "metadata": {},
   "outputs": [],
   "source": [
    "rdd.take(2)"
   ]
  },
  {
   "cell_type": "markdown",
   "id": "8d921d1d",
   "metadata": {},
   "source": [
    "## User NN"
   ]
  },
  {
   "cell_type": "code",
   "execution_count": null,
   "id": "fa0c1029",
   "metadata": {},
   "outputs": [],
   "source": [
    "def distance(u1,u2):\n",
    "    u1=u1.ravel()\n",
    "    u2=u2.ravel()\n",
    "    query=int(np.argwhere(u2==0)[0])\n",
    "    I=np.where(u1 >0)[0].tolist() ## remove all missing rates\n",
    "    \n",
    "    I=[x for x in I if x != query] \n",
    "    return np.mean(np.abs(u1[I]-u2[I]))\n",
    "\n",
    "q=int(np.where(broadcastNewUser.value==0)[0])\n",
    "rddf=rdd.filter(lambda u: u[1][q]>0)\n",
    "rdd2=rddf.map(lambda u: ( distance(u[1],broadcastNewUser.value), u[1][q], u[0] ))\n"
   ]
  },
  {
   "cell_type": "code",
   "execution_count": null,
   "id": "689bc6dd",
   "metadata": {},
   "outputs": [],
   "source": [
    "def redf(x,y):\n",
    "    if x[0]<y[0]:\n",
    "        return (x[0],x[1],x[2])\n",
    "    else:\n",
    "        return (y[0],y[1],y[2])\n",
    "    \n",
    "NN=rdd2.reduce(lambda x,y: redf(x,y))\n",
    "\n",
    "print(\"Nearest neighbour user=\", NN[2],\"distance=\", NN[0], \"pred=\",NN[1] )"
   ]
  },
  {
   "cell_type": "markdown",
   "id": "2eff44cf",
   "metadata": {},
   "source": [
    "### Check with in-memory operations"
   ]
  },
  {
   "cell_type": "code",
   "execution_count": null,
   "id": "d6969dc9",
   "metadata": {},
   "outputs": [],
   "source": [
    "dist=100*np.ones((U,1))\n",
    "for i in np.arange(U):\n",
    "    I=np.where(Ratings[i,:]!=0)[0].tolist()\n",
    "    I=[x for x in I if x != q]\n",
    "    dist[i]=np.mean(np.abs(Ratings[i,I]-NewUser[I]))\n",
    "print(\"Nearest neighbour user=\",np.argmin(dist),\"distance=\",np.min(dist),\"pred=\",Ratings[np.argmin(dist),q] )"
   ]
  },
  {
   "cell_type": "code",
   "execution_count": null,
   "id": "581e87cd",
   "metadata": {},
   "outputs": [],
   "source": [
    "u=NN[2]\n",
    "print('NN=',u, 'Ratings NN=',Ratings[u,:], 'Ratings NewUser=', NewUser, distance(Ratings[u,:],NewUser ))\n"
   ]
  },
  {
   "cell_type": "markdown",
   "id": "afbd33fe",
   "metadata": {},
   "source": [
    "## Product NN"
   ]
  },
  {
   "cell_type": "code",
   "execution_count": 106,
   "id": "9149b110",
   "metadata": {},
   "outputs": [],
   "source": [
    "def mapf(x,u):\n",
    "    ratings=x[1]\n",
    "    query=int(np.argwhere(u==0)[0])\n",
    "    retlist=[]\n",
    "    for j in np.arange(P):\n",
    "        if j!=query and ratings[j]!=0:\n",
    "            retlist.append((j,(np.abs(ratings[j]-ratings[query]),1)))\n",
    "    return retlist"
   ]
  },
  {
   "cell_type": "code",
   "execution_count": 107,
   "id": "bd908a0b",
   "metadata": {},
   "outputs": [],
   "source": [
    "rdd3=rdd.flatMap(lambda u: mapf(u,broadcastNewUser.value))"
   ]
  },
  {
   "cell_type": "code",
   "execution_count": 108,
   "id": "8f149a04",
   "metadata": {},
   "outputs": [],
   "source": [
    "rdd4=rdd3.reduceByKey(lambda x,y: (x[0]+y[0],x[1]+y[1]))\n"
   ]
  },
  {
   "cell_type": "code",
   "execution_count": 111,
   "id": "2747e3a8",
   "metadata": {},
   "outputs": [
    {
     "name": "stdout",
     "output_type": "stream",
     "text": [
      "Nearest neighbour product= 766 distance= 1.7579963789981894\n"
     ]
    }
   ],
   "source": [
    "def redf(x,y):\n",
    "    if x[1]<y[1]:\n",
    "        return (x[0],x[1])\n",
    "    return (y[0],y[1])\n",
    "\n",
    "sol=rdd4.mapValues(lambda x: x[0]/x[1]).reduce(lambda a,b: redf(a,b))\n",
    "\n",
    "print(\"Nearest neighbour product=\",sol[0],  'distance=', sol[1], 'prediction=', NewUser[sol[0]])\n"
   ]
  },
  {
   "cell_type": "markdown",
   "id": "7620825b",
   "metadata": {},
   "source": [
    "### Check with in-memory operations"
   ]
  },
  {
   "cell_type": "code",
   "execution_count": 112,
   "id": "22c57f30",
   "metadata": {},
   "outputs": [
    {
     "name": "stdout",
     "output_type": "stream",
     "text": [
      "Nearest neighbour product= 766 distance= 1.7579963789981894\n"
     ]
    }
   ],
   "source": [
    "dist=100*np.ones((P,1))\n",
    "for j in np.arange(P):\n",
    "    if j !=q:\n",
    "        I=np.where(Ratings[:,j]!=0)[0].tolist()\n",
    "        dist[j]=np.mean(np.abs(Ratings[I,j]-Ratings[I,q]))\n",
    "\n",
    "print(\"Nearest neighbour product=\",np.argmin(dist),'distance=',np.min(dist), 'prediction=', NewUser[np.argmin(dist)])"
   ]
  },
  {
   "cell_type": "code",
   "execution_count": null,
   "id": "03b6e62f",
   "metadata": {},
   "outputs": [],
   "source": []
  },
  {
   "cell_type": "code",
   "execution_count": null,
   "id": "c5be46df",
   "metadata": {},
   "outputs": [],
   "source": []
  }
 ],
 "metadata": {
  "kernelspec": {
   "display_name": "Python 3 (ipykernel)",
   "language": "python",
   "name": "python3"
  },
  "language_info": {
   "codemirror_mode": {
    "name": "ipython",
    "version": 3
   },
   "file_extension": ".py",
   "mimetype": "text/x-python",
   "name": "python",
   "nbconvert_exporter": "python",
   "pygments_lexer": "ipython3",
   "version": "3.11.7"
  }
 },
 "nbformat": 4,
 "nbformat_minor": 5
}
