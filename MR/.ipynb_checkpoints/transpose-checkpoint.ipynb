{
 "cells": [
  {
   "cell_type": "code",
   "execution_count": 1,
   "id": "36153eb3-64a8-4635-a007-23928990b40e",
   "metadata": {},
   "outputs": [
    {
     "name": "stderr",
     "output_type": "stream",
     "text": [
      "Setting default log level to \"WARN\".\n",
      "To adjust logging level use sc.setLogLevel(newLevel). For SparkR, use setLogLevel(newLevel).\n",
      "24/03/07 17:13:35 WARN NativeCodeLoader: Unable to load native-hadoop library for your platform... using builtin-java classes where applicable\n",
      "24/03/07 17:13:36 WARN Utils: Service 'SparkUI' could not bind on port 4040. Attempting port 4041.\n",
      "24/03/07 17:13:36 WARN Utils: Service 'SparkUI' could not bind on port 4041. Attempting port 4042.\n",
      "24/03/07 17:13:36 WARN Utils: Service 'SparkUI' could not bind on port 4042. Attempting port 4043.\n",
      "24/03/07 17:13:36 WARN Utils: Service 'SparkUI' could not bind on port 4043. Attempting port 4044.\n",
      "24/03/07 17:13:36 WARN Utils: Service 'SparkUI' could not bind on port 4044. Attempting port 4045.\n"
     ]
    }
   ],
   "source": [
    "import os \n",
    "import pwd\n",
    "# Disable warnings, set Matplotlib inline plotting and load Pandas package\n",
    "import numpy as np\n",
    "import getpass\n",
    "from pyspark import SparkContext, SparkConf\n",
    "\n",
    "userName = getpass.getuser()\n",
    "appName = pwd.getpwuid( os.getuid() )[ 0 ]\n",
    "\n",
    "sc = SparkContext(\"local\", appName)"
   ]
  },
  {
   "cell_type": "code",
   "execution_count": 2,
   "id": "e78cdf50-c932-4733-9f42-0585331ee818",
   "metadata": {},
   "outputs": [],
   "source": [
    "def order(x):\n",
    "    n=int(len(x)/2)\n",
    "    xx=np.zeros(n)\n",
    "    for i in range(n):\n",
    "        #xx[int(x[2*i])-1]=x[2*i+1]\n",
    "        xx[int(x[2*i])]=x[2*i+1]\n",
    "    return(xx)    "
   ]
  },
  {
   "cell_type": "markdown",
   "id": "96a11f3a-5d2b-405f-a541-1b5d1fe7ccfb",
   "metadata": {},
   "source": [
    "Data read"
   ]
  },
  {
   "cell_type": "code",
   "execution_count": 3,
   "id": "0ee6489f-a6d8-4cfe-83e0-ee8307fe2504",
   "metadata": {},
   "outputs": [
    {
     "data": {
      "text/plain": [
       "[[0.0, 1.0, -1.0, 0.0, 12.0],\n",
       " [1.0, 2.0, -3.0, 14.0, 14.0],\n",
       " [2.0, 3.0, -5.0, 16.0, 16.0],\n",
       " [3.0, 4.0, -0.0, 10.0, 10.0],\n",
       " [4.0, 1.0, -1.0, 12.0, 12.0],\n",
       " [5.0, 2.0, -5.0, 16.0, 16.0]]"
      ]
     },
     "execution_count": 3,
     "metadata": {},
     "output_type": "execute_result"
    }
   ],
   "source": [
    "Dataset = sc.textFile(\"DXY\").map(lambda x : x.split(\",\")).map(lambda x : [float(i) for i in x])\n",
    "Dataset.collect()\n",
    "#the first column represents the column in the transpose matrix"
   ]
  },
  {
   "cell_type": "markdown",
   "id": "2d2f32f5-5193-4d77-a417-2a4ebf7cad59",
   "metadata": {},
   "source": [
    "map (x)-> (row,(col,x[row]))"
   ]
  },
  {
   "cell_type": "code",
   "execution_count": 4,
   "id": "2f374f2e-cdca-4732-b425-ce6d54538704",
   "metadata": {},
   "outputs": [
    {
     "data": {
      "text/plain": [
       "[(0, (0.0, 1.0, 1.0, 2.0, 2.0, 3.0, 3.0, 4.0, 4.0, 1.0, 5.0, 2.0)),\n",
       " (1, (0.0, -1.0, 1.0, -3.0, 2.0, -5.0, 3.0, -0.0, 4.0, -1.0, 5.0, -5.0)),\n",
       " (2, (0.0, 0.0, 1.0, 14.0, 2.0, 16.0, 3.0, 10.0, 4.0, 12.0, 5.0, 16.0)),\n",
       " (3, (0.0, 12.0, 1.0, 14.0, 2.0, 16.0, 3.0, 10.0, 4.0, 12.0, 5.0, 16.0))]"
      ]
     },
     "execution_count": 4,
     "metadata": {},
     "output_type": "execute_result"
    }
   ],
   "source": [
    "tDataset=Dataset.flatMap(lambda x : [(i-1,((x[0]),x[i])) for i in range(1,len(x))]).reduceByKey(lambda a,b: (a+b))\n",
    "# i-1 is the key and represents the row in the transpose matrix\n",
    "# x[0] is the column in the transposed matrix\n",
    "# x[i] is the element in position x[row,col] in the transpose matrix\n",
    "\n",
    "# reduce join the lists associated to the same row\n",
    "tDataset.collect()"
   ]
  },
  {
   "cell_type": "markdown",
   "id": "9bd98501-066d-48a9-9ef8-ab86fdfd7a0e",
   "metadata": {},
   "source": [
    "Order the elements according to the column order"
   ]
  },
  {
   "cell_type": "code",
   "execution_count": 5,
   "id": "a791bf57-30b4-4b61-813e-6a5c96fa096b",
   "metadata": {},
   "outputs": [
    {
     "data": {
      "text/plain": [
       "[array([1., 2., 3., 4., 1., 2.]),\n",
       " array([-1., -3., -5., -0., -1., -5.]),\n",
       " array([ 0., 14., 16., 10., 12., 16.]),\n",
       " array([12., 14., 16., 10., 12., 16.])]"
      ]
     },
     "execution_count": 5,
     "metadata": {},
     "output_type": "execute_result"
    }
   ],
   "source": [
    "tDataset=tDataset.map(lambda x : order(x[1]))\n",
    "tDataset.collect()"
   ]
  },
  {
   "cell_type": "code",
   "execution_count": null,
   "id": "5b75d0f1-a9d8-4325-b5f3-5c95255b8b4d",
   "metadata": {},
   "outputs": [],
   "source": []
  }
 ],
 "metadata": {
  "kernelspec": {
   "display_name": "Python 3 (Spyder)",
   "language": "python3",
   "name": "python3"
  },
  "language_info": {
   "codemirror_mode": {
    "name": "ipython",
    "version": 3
   },
   "file_extension": ".py",
   "mimetype": "text/x-python",
   "name": "python",
   "nbconvert_exporter": "python",
   "pygments_lexer": "ipython3",
   "version": "3.11.7"
  }
 },
 "nbformat": 4,
 "nbformat_minor": 5
}
