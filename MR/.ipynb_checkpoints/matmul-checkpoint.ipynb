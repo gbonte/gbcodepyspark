{
 "cells": [
  {
   "cell_type": "markdown",
   "metadata": {
    "id": "4j8EsiusQuo1"
   },
   "source": [
    "## INFOH515 Spark code\n",
    "## Author: Gianluca Bontempi\n",
    "## Spark implementation of the example of matrix multiplication in the INFOH515 slides \"Map-reduce analytics\" \n"
   ]
  },
  {
   "cell_type": "code",
   "execution_count": 49,
   "metadata": {
    "id": "ceUMC8ETQ7r0"
   },
   "outputs": [],
   "source": [
    "import numpy as np\n",
    "import pwd\n",
    "import getpass\n",
    "from pyspark import SparkContext, SparkConf\n",
    "from pyspark.sql import SparkSession\n",
    "from pyspark.sql.functions import avg, sum\n",
    "userName = getpass.getuser()\n",
    "appName = pwd.getpwuid( os.getuid() )[ 0 ]\n",
    "\n",
    "\n",
    "# create an instance of SparkSession\n",
    "spark=SparkSession.builder.appName('s.com').getOrCreate()\n",
    "sc=spark.sparkContext"
   ]
  },
  {
   "cell_type": "code",
   "execution_count": 43,
   "metadata": {
    "colab": {
     "base_uri": "https://localhost:8080/",
     "height": 35
    },
    "id": "C7T_pEXPRhXc",
    "outputId": "6478ba36-5fdd-45f2-edbb-3fa5f3a2ee10"
   },
   "outputs": [
    {
     "data": {
      "text/plain": [
       "'3.5.5'"
      ]
     },
     "execution_count": 43,
     "metadata": {},
     "output_type": "execute_result"
    }
   ],
   "source": [
    "sc.version"
   ]
  },
  {
   "cell_type": "code",
   "execution_count": 44,
   "metadata": {
    "id": "nKlhR223RlAD"
   },
   "outputs": [],
   "source": [
    "def mapstep(x):\n",
    "    L=[] \n",
    "    matname=x[0]\n",
    "    if matname=='M':\n",
    "        i=int(x[1])\n",
    "        for j in range(1,MC+1):\n",
    "            L=L+[((int(i),k),(j,matname,int(x[1+j]))) for k in range(1,NC+1)]\n",
    "    if matname=='N':\n",
    "        j=int(x[1])\n",
    "        for k in range(1,NC+1):\n",
    "            L=L+[((int(i),k),(j,matname,int(x[1+k]))) for i in range(1,MR+1)]\n",
    "    return(L)"
   ]
  },
  {
   "cell_type": "code",
   "execution_count": 45,
   "metadata": {
    "id": "KDr-S7vMRpA5"
   },
   "outputs": [],
   "source": [
    "def redstep(x):\n",
    "    L=len(x)/3\n",
    "    i=0\n",
    "    vM=np.zeros(MC)\n",
    "    vN=np.zeros(MC)\n",
    "    while i <len(x):\n",
    "        if x[i+1]=='M':\n",
    "            vM[x[i]-1]=x[i+2]\n",
    "        if x[i+1]=='N':\n",
    "            vN[x[i]-1]=x[i+2]\n",
    "        i=i+3\n",
    "    return(np.sum(vM*vN))"
   ]
  },
  {
   "cell_type": "markdown",
   "metadata": {},
   "source": []
  },
  {
   "cell_type": "code",
   "execution_count": 47,
   "metadata": {
    "id": "p-tqT9hVR6Sb"
   },
   "outputs": [
    {
     "name": "stderr",
     "output_type": "stream",
     "text": [
      "                                                                                "
     ]
    },
    {
     "data": {
      "text/plain": [
       "[['M', '1', '1', '2'],\n",
       " ['M', '2', '3', '4'],\n",
       " ['M', '3', '5', '6'],\n",
       " ['N', '1', '-1', '-2', '-3', '-4'],\n",
       " ['N', '2', '-5', '-6', '-7', '-8']]"
      ]
     },
     "execution_count": 47,
     "metadata": {},
     "output_type": "execute_result"
    }
   ],
   "source": [
    "matr.collect()"
   ]
  },
  {
   "cell_type": "code",
   "execution_count": 46,
   "metadata": {
    "id": "96O7JmOGR1t4"
   },
   "outputs": [],
   "source": [
    "matr = sc.textFile(\"matrix\").map(lambda x : x.split(\",\"))"
   ]
  },
  {
   "cell_type": "code",
   "execution_count": 48,
   "metadata": {
    "id": "39-DYmpSR91j"
   },
   "outputs": [],
   "source": [
    "MR=matr.filter(lambda L: L[0]=='M').count()\n",
    "NR=matr.filter(lambda L: L[0]=='N').count()\n",
    "MC=len(matr.filter(lambda L: L[0]=='M').take(1)[0])-2\n",
    "NC=len(matr.filter(lambda L: L[0]=='N').take(1)[0])-2"
   ]
  },
  {
   "cell_type": "code",
   "execution_count": 26,
   "metadata": {
    "id": "C1LEp3GESEyN"
   },
   "outputs": [
    {
     "data": {
      "text/plain": [
       "[((1, 1), (1, 'M', 1)),\n",
       " ((1, 2), (1, 'M', 1)),\n",
       " ((1, 3), (1, 'M', 1)),\n",
       " ((1, 4), (1, 'M', 1)),\n",
       " ((1, 1), (2, 'M', 2)),\n",
       " ((1, 2), (2, 'M', 2)),\n",
       " ((1, 3), (2, 'M', 2)),\n",
       " ((1, 4), (2, 'M', 2)),\n",
       " ((2, 1), (1, 'M', 3)),\n",
       " ((2, 2), (1, 'M', 3)),\n",
       " ((2, 3), (1, 'M', 3)),\n",
       " ((2, 4), (1, 'M', 3)),\n",
       " ((2, 1), (2, 'M', 4)),\n",
       " ((2, 2), (2, 'M', 4)),\n",
       " ((2, 3), (2, 'M', 4)),\n",
       " ((2, 4), (2, 'M', 4)),\n",
       " ((3, 1), (1, 'M', 5)),\n",
       " ((3, 2), (1, 'M', 5)),\n",
       " ((3, 3), (1, 'M', 5)),\n",
       " ((3, 4), (1, 'M', 5)),\n",
       " ((3, 1), (2, 'M', 6)),\n",
       " ((3, 2), (2, 'M', 6)),\n",
       " ((3, 3), (2, 'M', 6)),\n",
       " ((3, 4), (2, 'M', 6)),\n",
       " ((1, 1), (1, 'N', -1)),\n",
       " ((2, 1), (1, 'N', -1)),\n",
       " ((3, 1), (1, 'N', -1)),\n",
       " ((1, 2), (1, 'N', -2)),\n",
       " ((2, 2), (1, 'N', -2)),\n",
       " ((3, 2), (1, 'N', -2)),\n",
       " ((1, 3), (1, 'N', -3)),\n",
       " ((2, 3), (1, 'N', -3)),\n",
       " ((3, 3), (1, 'N', -3)),\n",
       " ((1, 4), (1, 'N', -4)),\n",
       " ((2, 4), (1, 'N', -4)),\n",
       " ((3, 4), (1, 'N', -4)),\n",
       " ((1, 1), (2, 'N', -5)),\n",
       " ((2, 1), (2, 'N', -5)),\n",
       " ((3, 1), (2, 'N', -5)),\n",
       " ((1, 2), (2, 'N', -6)),\n",
       " ((2, 2), (2, 'N', -6)),\n",
       " ((3, 2), (2, 'N', -6)),\n",
       " ((1, 3), (2, 'N', -7)),\n",
       " ((2, 3), (2, 'N', -7)),\n",
       " ((3, 3), (2, 'N', -7)),\n",
       " ((1, 4), (2, 'N', -8)),\n",
       " ((2, 4), (2, 'N', -8)),\n",
       " ((3, 4), (2, 'N', -8))]"
      ]
     },
     "execution_count": 26,
     "metadata": {},
     "output_type": "execute_result"
    }
   ],
   "source": [
    "matr.flatMap(lambda x:mapstep(x) ).collect()"
   ]
  },
  {
   "cell_type": "code",
   "execution_count": 27,
   "metadata": {
    "id": "9zfw7ZnFSGou"
   },
   "outputs": [],
   "source": [
    "res=matr.flatMap(lambda x:mapstep(x) ).reduceByKey(lambda a,b:a+b).map(lambda a: (a[0],redstep(a[1])))"
   ]
  },
  {
   "cell_type": "code",
   "execution_count": 28,
   "metadata": {
    "id": "BQ1LtCJjSLtT"
   },
   "outputs": [
    {
     "data": {
      "text/plain": [
       "[((1, 1), -11.0),\n",
       " ((1, 2), -14.0),\n",
       " ((1, 3), -17.0),\n",
       " ((1, 4), -20.0),\n",
       " ((2, 1), -23.0),\n",
       " ((2, 2), -30.0),\n",
       " ((2, 3), -37.0),\n",
       " ((2, 4), -44.0),\n",
       " ((3, 1), -35.0),\n",
       " ((3, 2), -46.0),\n",
       " ((3, 3), -57.0),\n",
       " ((3, 4), -68.0)]"
      ]
     },
     "execution_count": 28,
     "metadata": {},
     "output_type": "execute_result"
    }
   ],
   "source": [
    "res.collect()"
   ]
  },
  {
   "cell_type": "code",
   "execution_count": 29,
   "metadata": {},
   "outputs": [
    {
     "data": {
      "text/plain": [
       "array([[-11, -14, -17, -20],\n",
       "       [-23, -30, -37, -44],\n",
       "       [-35, -46, -57, -68]])"
      ]
     },
     "execution_count": 29,
     "metadata": {},
     "output_type": "execute_result"
    }
   ],
   "source": [
    "M=np.array([[1,2],[3,4],[5,6]])\n",
    "N=np.array([[-1,-2,-3,-4], [-5,-6,-7,-8]])\n",
    "M@N"
   ]
  },
  {
   "cell_type": "code",
   "execution_count": null,
   "metadata": {},
   "outputs": [],
   "source": []
  }
 ],
 "metadata": {
  "colab": {
   "provenance": []
  },
  "kernelspec": {
   "display_name": "Python 3 (ipykernel)",
   "language": "python",
   "name": "python3"
  },
  "language_info": {
   "codemirror_mode": {
    "name": "ipython",
    "version": 3
   },
   "file_extension": ".py",
   "mimetype": "text/x-python",
   "name": "python",
   "nbconvert_exporter": "python",
   "pygments_lexer": "ipython3",
   "version": "3.12.8"
  }
 },
 "nbformat": 4,
 "nbformat_minor": 4
}
