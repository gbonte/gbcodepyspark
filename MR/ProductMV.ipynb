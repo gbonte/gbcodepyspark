{
 "cells": [
  {
   "cell_type": "markdown",
   "id": "cd1b7c10",
   "metadata": {},
   "source": [
    "## INFOH515 Pyspark code\n",
    "## Author: Gianluca Bontempi\n",
    "## Pyspark implementation of the matrix-vector mulitplication in the INFOH515 slides \"Map-reduce analytics\" "
   ]
  },
  {
   "cell_type": "code",
   "execution_count": 196,
   "id": "11e91a06",
   "metadata": {},
   "outputs": [],
   "source": [
    "import numpy as np\n",
    "import pwd\n",
    "import getpass\n",
    "import os\n",
    "from pyspark import SparkContext, SparkConf\n",
    "from pyspark.sql import SparkSession\n",
    "from pyspark.sql.functions import avg, sum\n",
    "\n",
    "# create an instance of SparkSession\n",
    "spark=SparkSession.builder.appName('s.com').getOrCreate()\n",
    "sc=spark.sparkContext"
   ]
  },
  {
   "cell_type": "code",
   "execution_count": 178,
   "id": "b455bfc6",
   "metadata": {},
   "outputs": [
    {
     "data": {
      "text/plain": [
       "array([[-3.28537915],\n",
       "       [ 0.76688449],\n",
       "       [ 1.07425344],\n",
       "       [ 6.03693438],\n",
       "       [-0.29982747]])"
      ]
     },
     "execution_count": 178,
     "metadata": {},
     "output_type": "execute_result"
    }
   ],
   "source": [
    "\n",
    "np.random.seed(1225)   \n",
    "\n",
    "n=5 # number of features\n",
    "N=1000 # number of samples\n",
    "Y= np.random.normal(loc=0, scale=1, size= n).reshape(n,1)\n",
    "X= np.random.normal(loc=0, scale=1, size=N * n).reshape(N, n)\n",
    "I=np.arange(N).reshape(N,1)\n",
    "\n",
    "P=X@Y\n",
    "P[:5]"
   ]
  },
  {
   "cell_type": "markdown",
   "id": "323c217a",
   "metadata": {},
   "source": [
    "We consider three ways of encoding the matrix X:\n",
    "\n",
    "* rddX: [0, X[0,:]]\n",
    "* rddX2: (0, X[0,:])\n",
    "* rddX3: ((0,0,X[0,0]), (0,1,X[0,1])"
   ]
  },
  {
   "cell_type": "code",
   "execution_count": 193,
   "id": "1224f7d0",
   "metadata": {},
   "outputs": [
    {
     "data": {
      "text/plain": [
       "[array([ 0.        ,  0.34615021, -1.58390158, -0.47663391,  0.67023779,\n",
       "        -0.6931159 ]),\n",
       " array([ 1.        , -1.2784718 ,  1.22773916,  0.6629516 ,  0.26926281,\n",
       "         0.30634199]),\n",
       " array([ 2.        , -0.15450905,  0.77881069, -0.09776944,  0.39046338,\n",
       "        -0.55891276]),\n",
       " array([ 3.        ,  0.89400835,  0.77571089,  2.91200029, -0.94748154,\n",
       "         1.89004016]),\n",
       " array([ 4.        ,  0.68091192, -0.80111741,  1.82520984,  0.57087397,\n",
       "         1.87065612])]"
      ]
     },
     "execution_count": 193,
     "metadata": {},
     "output_type": "execute_result"
    }
   ],
   "source": [
    "broadcastY = sc.broadcast(Y)\n",
    "rddX=sc.parallelize(np.hstack((I,X)))\n",
    "rddX.take(5)"
   ]
  },
  {
   "cell_type": "markdown",
   "id": "6b23a220",
   "metadata": {},
   "source": [
    "## Map with rddX"
   ]
  },
  {
   "cell_type": "code",
   "execution_count": 194,
   "id": "2bdd0b37",
   "metadata": {},
   "outputs": [
    {
     "data": {
      "text/plain": [
       "[array([-3.28537915]),\n",
       " array([0.76688449]),\n",
       " array([1.07425344]),\n",
       " array([6.03693438]),\n",
       " array([-0.29982747])]"
      ]
     },
     "execution_count": 194,
     "metadata": {},
     "output_type": "execute_result"
    }
   ],
   "source": [
    "\n",
    "rddProduct=rddX.map(lambda x: np.dot(x[1:],broadcastY.value))\n",
    "rddProduct.take(5)\n"
   ]
  },
  {
   "cell_type": "markdown",
   "id": "5454f8d8",
   "metadata": {},
   "source": [
    "## flatMap +Reduce with rddX"
   ]
  },
  {
   "cell_type": "code",
   "execution_count": 183,
   "id": "ffac61f9",
   "metadata": {},
   "outputs": [
    {
     "name": "stderr",
     "output_type": "stream",
     "text": [
      "                                                                                \r"
     ]
    },
    {
     "data": {
      "text/plain": [
       "[(0, -3.285379145932364),\n",
       " (1, 0.7668844932434471),\n",
       " (2, 1.0742534434653983),\n",
       " (3, 6.036934381989275),\n",
       " (4, -0.2998274672400232)]"
      ]
     },
     "execution_count": 183,
     "metadata": {},
     "output_type": "execute_result"
    }
   ],
   "source": [
    "def mapf(x):\n",
    "    n=len(x)-1\n",
    "    outm=[]\n",
    "    for i in np.arange(n):\n",
    "        outm.append((int(x[0]),float(x[i+1]*broadcastY.value[i])))\n",
    "    return(outm)\n",
    "rddProduct=rddX.flatMap(lambda x: mapf(x))\n",
    "rddProduct.reduceByKey( lambda x, y: x+y).sortByKey().take(5)"
   ]
  },
  {
   "cell_type": "markdown",
   "id": "f4483318",
   "metadata": {},
   "source": [
    "## Use of mapValues with rddX2 "
   ]
  },
  {
   "cell_type": "code",
   "execution_count": 184,
   "id": "ffd4d153",
   "metadata": {},
   "outputs": [
    {
     "data": {
      "text/plain": [
       "[(0, array([ 0.34615021, -1.58390158, -0.47663391,  0.67023779, -0.6931159 ])),\n",
       " (1, array([-1.2784718 ,  1.22773916,  0.6629516 ,  0.26926281,  0.30634199])),\n",
       " (2, array([-0.15450905,  0.77881069, -0.09776944,  0.39046338, -0.55891276])),\n",
       " (3, array([ 0.89400835,  0.77571089,  2.91200029, -0.94748154,  1.89004016])),\n",
       " (4, array([ 0.68091192, -0.80111741,  1.82520984,  0.57087397,  1.87065612])),\n",
       " (5, array([ 0.60524862,  0.02694414, -0.35732297, -0.32862628, -1.84350644])),\n",
       " (6, array([ 0.2139407 , -2.03349078, -0.38741379,  1.16814892, -0.50037546])),\n",
       " (7, array([-2.67524353, -0.71102341, -0.85106656, -0.59740483, -0.63819803])),\n",
       " (8, array([-0.8178201 ,  0.74289242, -0.05032601, -0.24798778, -2.00452167])),\n",
       " (9, array([ 1.9011385 , -0.64014282,  0.94837751, -1.08275313,  1.38603835]))]"
      ]
     },
     "execution_count": 184,
     "metadata": {},
     "output_type": "execute_result"
    }
   ],
   "source": [
    "#Create an RDD of key-value pairs: (row_index, row_values)\n",
    "rddX2 = sc.parallelize([(i, row) for i, row in enumerate(X)])\n",
    "\n",
    "# Broadcast the vector to all worker nodes\n",
    "broadcast_vector = sc.broadcast(Y)\n",
    "\n",
    "rddX2.take(10)"
   ]
  },
  {
   "cell_type": "code",
   "execution_count": 186,
   "id": "cde253bd",
   "metadata": {},
   "outputs": [
    {
     "data": {
      "text/plain": [
       "[(0, -3.285379145932364),\n",
       " (1, 0.7668844932434471),\n",
       " (2, 1.0742534434653983),\n",
       " (3, 6.036934381989275),\n",
       " (4, -0.2998274672400232)]"
      ]
     },
     "execution_count": 186,
     "metadata": {},
     "output_type": "execute_result"
    }
   ],
   "source": [
    "# MAP OPERATION\n",
    "# For each row, calculate element-wise products with the vector\n",
    "def multiply_row_with_vector(row_tuple):\n",
    "    row_idx, row = row_tuple\n",
    "    vector_value = broadcast_vector.value\n",
    "    \n",
    "    # For each element in the row, multiply by the corresponding vector element\n",
    "    # Return (row_index, [products])\n",
    "    return (row_idx, [row[i] * vector_value[i] for i in range(len(row))])\n",
    "\n",
    "# Apply the map function\n",
    "element_wise_products = rddX2.map(multiply_row_with_vector)\n",
    "\n",
    "dot_products = element_wise_products.mapValues(np.sum)\n",
    "\n",
    "dot_products.take(5)"
   ]
  },
  {
   "cell_type": "markdown",
   "id": "4e8dbb1f",
   "metadata": {},
   "source": [
    "## ReduceByKey with rddX3"
   ]
  },
  {
   "cell_type": "code",
   "execution_count": 187,
   "id": "cff6ccc9",
   "metadata": {},
   "outputs": [
    {
     "data": {
      "text/plain": [
       "[((0, 0), 0.3461502146150345),\n",
       " ((0, 1), -1.5839015772522416),\n",
       " ((0, 2), -0.4766339104797224),\n",
       " ((0, 3), 0.6702377922137547),\n",
       " ((0, 4), -0.6931158962159752),\n",
       " ((1, 0), -1.2784717988438972),\n",
       " ((1, 1), 1.2277391634174657),\n",
       " ((1, 2), 0.6629515977263967),\n",
       " ((1, 3), 0.2692628077253596),\n",
       " ((1, 4), 0.30634198649624383)]"
      ]
     },
     "execution_count": 187,
     "metadata": {},
     "output_type": "execute_result"
    }
   ],
   "source": [
    "# We can also demonstrate the use of reduceByKey by restructuring our data\n",
    "# First, let's explode the matrix into (i, j, value) format\n",
    "matrix_elements = []\n",
    "for i, row in enumerate(X):\n",
    "    for j, value in enumerate(row):\n",
    "        matrix_elements.append((i, j, value))\n",
    "\n",
    "# Create RDD of ((row_idx, col_idx), matrix_value)\n",
    "rddX3 = sc.parallelize([((i, j), value) for i, j, value in matrix_elements])\n",
    "\n",
    "rddX3.take(10)"
   ]
  },
  {
   "cell_type": "code",
   "execution_count": 188,
   "id": "4826fb6e",
   "metadata": {},
   "outputs": [],
   "source": [
    "# Map each matrix element to ((row_idx, col_idx), matrix_value * vector_value[col_idx])\n",
    "def multiply_with_vector_element(element):\n",
    "    (row_idx, col_idx), value = element\n",
    "    return (row_idx, value * broadcast_vector.value[col_idx])\n",
    "\n",
    "# Apply the multiplication\n",
    "product_elements = rddX3.map(multiply_with_vector_element)\n",
    "\n",
    "# REDUCE OPERATION\n",
    "# Use reduceByKey to sum up all products for each row\n",
    "result_by_key = product_elements.reduceByKey(lambda x, y: x + y)"
   ]
  },
  {
   "cell_type": "code",
   "execution_count": 191,
   "id": "072b6cb6",
   "metadata": {},
   "outputs": [
    {
     "name": "stderr",
     "output_type": "stream",
     "text": [
      "                                                                                \r"
     ]
    },
    {
     "data": {
      "text/plain": [
       "[(0, array([-3.28537915])),\n",
       " (1, array([0.76688449])),\n",
       " (2, array([1.07425344])),\n",
       " (3, array([6.03693438])),\n",
       " (4, array([-0.29982747]))]"
      ]
     },
     "execution_count": 191,
     "metadata": {},
     "output_type": "execute_result"
    }
   ],
   "source": [
    "result_by_key.sortByKey().take(5)"
   ]
  },
  {
   "cell_type": "code",
   "execution_count": null,
   "id": "41aeb070",
   "metadata": {},
   "outputs": [],
   "source": []
  }
 ],
 "metadata": {
  "kernelspec": {
   "display_name": "Python 3 (ipykernel)",
   "language": "python",
   "name": "python3"
  },
  "language_info": {
   "codemirror_mode": {
    "name": "ipython",
    "version": 3
   },
   "file_extension": ".py",
   "mimetype": "text/x-python",
   "name": "python",
   "nbconvert_exporter": "python",
   "pygments_lexer": "ipython3",
   "version": "3.11.7"
  }
 },
 "nbformat": 4,
 "nbformat_minor": 5
}
