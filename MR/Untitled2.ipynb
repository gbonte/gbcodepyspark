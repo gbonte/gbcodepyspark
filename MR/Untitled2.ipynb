{
 "cells": [
  {
   "cell_type": "code",
   "execution_count": 2,
   "id": "0fcc20a0",
   "metadata": {},
   "outputs": [
    {
     "name": "stderr",
     "output_type": "stream",
     "text": [
      "Setting default log level to \"WARN\".\n",
      "To adjust logging level use sc.setLogLevel(newLevel). For SparkR, use setLogLevel(newLevel).\n",
      "25/03/17 14:13:42 WARN NativeCodeLoader: Unable to load native-hadoop library for your platform... using builtin-java classes where applicable\n",
      "25/03/17 14:13:43 WARN Utils: Service 'SparkUI' could not bind on port 4040. Attempting port 4041.\n",
      "25/03/17 14:13:43 WARN Utils: Service 'SparkUI' could not bind on port 4041. Attempting port 4042.\n",
      "25/03/17 14:13:43 WARN Utils: Service 'SparkUI' could not bind on port 4042. Attempting port 4043.\n"
     ]
    }
   ],
   "source": [
    "import numpy as np\n",
    "import pwd\n",
    "import getpass\n",
    "import os\n",
    "from pyspark import SparkContext, SparkConf\n",
    "from pyspark.sql import SparkSession\n",
    "from pyspark.sql.functions import avg, sum\n",
    "\n",
    "# create an instance of SparkSession\n",
    "spark=SparkSession.builder.appName('s.com').getOrCreate()\n",
    "sc=spark.sparkContext"
   ]
  },
  {
   "cell_type": "code",
   "execution_count": 23,
   "id": "f5daea68",
   "metadata": {},
   "outputs": [],
   "source": [
    "Table1=[('Gianluca','M'), ('Lucia','F'),('Gaia', 'F'),('Mattia','M')]\n",
    "\n",
    "rdd1 = sc.parallelize([(row[0]+row[1], (row[0],row[1])) for  a,row in enumerate(Table1)])\n",
    "\n",
    "Table2=[('Gianluca','M'), ('Stijn','M')]\n",
    "rdd2 = sc.parallelize([(row[0]+row[1], (row[0],row[1])) for  a,row in enumerate(Table2)])"
   ]
  },
  {
   "cell_type": "code",
   "execution_count": 24,
   "id": "fddd1465",
   "metadata": {},
   "outputs": [
    {
     "data": {
      "text/plain": [
       "[('GianlucaM', ('Gianluca', 'M')),\n",
       " ('LuciaF', ('Lucia', 'F')),\n",
       " ('GaiaF', ('Gaia', 'F')),\n",
       " ('MattiaM', ('Mattia', 'M'))]"
      ]
     },
     "execution_count": 24,
     "metadata": {},
     "output_type": "execute_result"
    }
   ],
   "source": [
    "rdd1.collect()"
   ]
  },
  {
   "cell_type": "code",
   "execution_count": 35,
   "id": "f0f7a708",
   "metadata": {},
   "outputs": [
    {
     "data": {
      "text/plain": [
       "[('GianlucaM', ('Gianluca', 'M')),\n",
       " ('LuciaF', ('Lucia', 'F')),\n",
       " ('GaiaF', ('Gaia', 'F')),\n",
       " ('MattiaM', ('Mattia', 'M')),\n",
       " ('GianlucaM', ('Gianluca', 'M')),\n",
       " ('StijnM', ('Stijn', 'M'))]"
      ]
     },
     "execution_count": 35,
     "metadata": {},
     "output_type": "execute_result"
    }
   ],
   "source": [
    "rdd=rdd1.union(rdd2)\n",
    "rdd.collect()"
   ]
  },
  {
   "cell_type": "markdown",
   "id": "cd3446e4",
   "metadata": {},
   "source": [
    "## Union"
   ]
  },
  {
   "cell_type": "code",
   "execution_count": 31,
   "id": "57a95557",
   "metadata": {},
   "outputs": [
    {
     "data": {
      "text/plain": [
       "[('Gianluca', 'M'),\n",
       " ('Stijn', 'M'),\n",
       " ('Lucia', 'F'),\n",
       " ('Gaia', 'F'),\n",
       " ('Mattia', 'M')]"
      ]
     },
     "execution_count": 31,
     "metadata": {},
     "output_type": "execute_result"
    }
   ],
   "source": [
    "rdd.reduceByKey(lambda x, y: x).map(lambda x: x[1]).collect()"
   ]
  },
  {
   "cell_type": "markdown",
   "id": "24f8720a",
   "metadata": {},
   "source": [
    "## Intersection"
   ]
  },
  {
   "cell_type": "code",
   "execution_count": 66,
   "id": "bd1c2b03",
   "metadata": {},
   "outputs": [
    {
     "data": {
      "text/plain": [
       "[('GianlucaM', ('Gianluca', 'M'))]"
      ]
     },
     "execution_count": 66,
     "metadata": {},
     "output_type": "execute_result"
    }
   ],
   "source": [
    "def redf(x):\n",
    "    #return(len(x[1]))\n",
    "    if len(x)>2:\n",
    "        return((x[0],x[1]))\n",
    "rdd2=rdd.reduceByKey(lambda x, y: x+y)\n",
    "rdd2.mapValues(lambda x: redf(x)).filter(lambda x: x[1] != None).map(collect()"
   ]
  },
  {
   "cell_type": "code",
   "execution_count": 65,
   "id": "b9230708",
   "metadata": {},
   "outputs": [
    {
     "data": {
      "text/plain": [
       "[('GianlucaM', ('Gianluca', 'M', 'Gianluca', 'M')),\n",
       " ('StijnM', ('Stijn', 'M')),\n",
       " ('LuciaF', ('Lucia', 'F')),\n",
       " ('GaiaF', ('Gaia', 'F')),\n",
       " ('MattiaM', ('Mattia', 'M'))]"
      ]
     },
     "execution_count": 65,
     "metadata": {},
     "output_type": "execute_result"
    }
   ],
   "source": [
    "rdd2.collect()"
   ]
  },
  {
   "cell_type": "code",
   "execution_count": 62,
   "id": "bad4a0cf",
   "metadata": {},
   "outputs": [],
   "source": [
    "redf(rdd2.take(2)[1])"
   ]
  },
  {
   "cell_type": "code",
   "execution_count": 60,
   "id": "37954f93",
   "metadata": {},
   "outputs": [
    {
     "data": {
      "text/plain": [
       "('LuciaF', ('Lucia', 'F'))"
      ]
     },
     "execution_count": 60,
     "metadata": {},
     "output_type": "execute_result"
    }
   ],
   "source": [
    "rdd2.take(3)[2]"
   ]
  },
  {
   "cell_type": "code",
   "execution_count": null,
   "id": "37cb6534",
   "metadata": {},
   "outputs": [],
   "source": []
  }
 ],
 "metadata": {
  "kernelspec": {
   "display_name": "Python 3 (ipykernel)",
   "language": "python",
   "name": "python3"
  },
  "language_info": {
   "codemirror_mode": {
    "name": "ipython",
    "version": 3
   },
   "file_extension": ".py",
   "mimetype": "text/x-python",
   "name": "python",
   "nbconvert_exporter": "python",
   "pygments_lexer": "ipython3",
   "version": "3.11.7"
  }
 },
 "nbformat": 4,
 "nbformat_minor": 5
}
