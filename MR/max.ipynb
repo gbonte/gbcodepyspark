{
 "cells": [
  {
   "cell_type": "markdown",
   "id": "328fa6f7",
   "metadata": {},
   "source": [
    "## INFOH515 Pyspark code\n",
    "## Author: Gianluca Bontempi\n",
    "## Pyspark implementation of the max in the INFOH515 slides \"Map-reduce analytics\" "
   ]
  },
  {
   "cell_type": "code",
   "execution_count": 10,
   "id": "11e91a06",
   "metadata": {},
   "outputs": [],
   "source": [
    "import numpy as np\n",
    "import pwd\n",
    "import getpass\n",
    "import os\n",
    "from pyspark import SparkContext, SparkConf\n",
    "from pyspark.sql import SparkSession\n",
    "from pyspark.sql.functions import avg, sum\n",
    "\n",
    "# create an instance of SparkSession\n",
    "spark=SparkSession.builder.appName('s.com').getOrCreate()\n",
    "sc=spark.sparkContext"
   ]
  },
  {
   "cell_type": "code",
   "execution_count": 24,
   "id": "b455bfc6",
   "metadata": {},
   "outputs": [
    {
     "name": "stdout",
     "output_type": "stream",
     "text": [
      "rwo max= [1.84505492 0.34615021 0.67023779 1.22773916 0.6629516  0.77881069\n",
      " 0.89400835 2.91200029 1.89004016 1.87065612]\n",
      "global max= 2.912000292377562\n"
     ]
    }
   ],
   "source": [
    "\n",
    "np.random.seed(1225)   \n",
    "\n",
    "n=3 # number of features\n",
    "N=10 # number of samples\n",
    "\n",
    "X= np.random.normal(loc=0, scale=1, size=N * n).reshape(N, n)\n",
    "print(\"rwo max=\",np.max(X,axis=1))\n",
    "\n",
    "print(\"global max=\",np.max(X))"
   ]
  },
  {
   "cell_type": "markdown",
   "id": "6b23a220",
   "metadata": {},
   "source": [
    "## Map-reduce without key"
   ]
  },
  {
   "cell_type": "code",
   "execution_count": 25,
   "id": "2bdd0b37",
   "metadata": {},
   "outputs": [
    {
     "data": {
      "text/plain": [
       "[1.8450549182066196,\n",
       " 0.3461502146150345,\n",
       " 0.6702377922137547,\n",
       " 1.2277391634174657,\n",
       " 0.6629515977263967]"
      ]
     },
     "execution_count": 25,
     "metadata": {},
     "output_type": "execute_result"
    }
   ],
   "source": [
    "rddX=sc.parallelize(X)\n",
    "rddXmax=rddX.map(lambda x: np.max(x))\n",
    "rddXmax.take(5)\n"
   ]
  },
  {
   "cell_type": "code",
   "execution_count": 26,
   "id": "868a6e4d",
   "metadata": {},
   "outputs": [
    {
     "data": {
      "text/plain": [
       "2.912000292377562"
      ]
     },
     "execution_count": 26,
     "metadata": {},
     "output_type": "execute_result"
    }
   ],
   "source": [
    "rddXmax.reduce( lambda x, y: np.max((x,y)))"
   ]
  },
  {
   "cell_type": "markdown",
   "id": "52fff22d",
   "metadata": {},
   "source": [
    "## Map-reduce with key and reduce\n"
   ]
  },
  {
   "cell_type": "code",
   "execution_count": 35,
   "id": "df7e6fd6",
   "metadata": {},
   "outputs": [
    {
     "data": {
      "text/plain": [
       "[(1, 1.8450549182066196),\n",
       " (1, 0.3461502146150345),\n",
       " (1, 0.6702377922137547),\n",
       " (1, 1.2277391634174657),\n",
       " (1, 0.6629515977263967)]"
      ]
     },
     "execution_count": 35,
     "metadata": {},
     "output_type": "execute_result"
    }
   ],
   "source": [
    "rddX=sc.parallelize(X)\n",
    "rddXmax=rddX.map(lambda x: (1,np.max(x)))\n",
    "rddXmax.take(5)\n",
    "\n"
   ]
  },
  {
   "cell_type": "code",
   "execution_count": 37,
   "id": "223b6a82",
   "metadata": {},
   "outputs": [
    {
     "data": {
      "text/plain": [
       "(1, 2.912000292377562)"
      ]
     },
     "execution_count": 37,
     "metadata": {},
     "output_type": "execute_result"
    }
   ],
   "source": [
    "rddXmax.reduce( lambda x, y: (x[0],np.max((x[1],y[1]))))"
   ]
  },
  {
   "cell_type": "markdown",
   "id": "6ca718a7",
   "metadata": {},
   "source": [
    "## Map-reduce with key and reduceByKey"
   ]
  },
  {
   "cell_type": "code",
   "execution_count": 38,
   "id": "eb9c2131",
   "metadata": {},
   "outputs": [
    {
     "data": {
      "text/plain": [
       "[(1, 2.912000292377562)]"
      ]
     },
     "execution_count": 38,
     "metadata": {},
     "output_type": "execute_result"
    }
   ],
   "source": [
    "rddXmax.reduceByKey( lambda x, y: np.max((x,y))).collect()"
   ]
  },
  {
   "cell_type": "markdown",
   "id": "f5ba7f17",
   "metadata": {},
   "source": [
    "## MapValues"
   ]
  },
  {
   "cell_type": "code",
   "execution_count": 33,
   "id": "aba9fc60",
   "metadata": {},
   "outputs": [
    {
     "data": {
      "text/plain": [
       "[(0, 1.8450549182066196),\n",
       " (1, 0.3461502146150345),\n",
       " (2, 0.6702377922137547),\n",
       " (3, 1.2277391634174657),\n",
       " (4, 0.6629515977263967),\n",
       " (5, 0.7788106909114473),\n",
       " (6, 0.89400835058669),\n",
       " (7, 2.912000292377562),\n",
       " (8, 1.8900401640390256),\n",
       " (9, 1.870656121573813)]"
      ]
     },
     "execution_count": 33,
     "metadata": {},
     "output_type": "execute_result"
    }
   ],
   "source": [
    "#Create an RDD of key-value pairs: (row_index, row_values)\n",
    "rddX2 = sc.parallelize([(i, row) for i, row in enumerate(X)])\n",
    "rddX2.mapValues( lambda x: np.max(x)).take(5)"
   ]
  },
  {
   "cell_type": "code",
   "execution_count": 66,
   "id": "37428d04",
   "metadata": {},
   "outputs": [],
   "source": [
    "sc.stop()"
   ]
  },
  {
   "cell_type": "code",
   "execution_count": null,
   "id": "8b6bad75",
   "metadata": {},
   "outputs": [],
   "source": []
  }
 ],
 "metadata": {
  "kernelspec": {
   "display_name": "Python 3 (ipykernel)",
   "language": "python",
   "name": "python3"
  },
  "language_info": {
   "codemirror_mode": {
    "name": "ipython",
    "version": 3
   },
   "file_extension": ".py",
   "mimetype": "text/x-python",
   "name": "python",
   "nbconvert_exporter": "python",
   "pygments_lexer": "ipython3",
   "version": "3.11.7"
  }
 },
 "nbformat": 4,
 "nbformat_minor": 5
}
