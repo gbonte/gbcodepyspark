{
 "cells": [
  {
   "cell_type": "markdown",
   "id": "90c90a12",
   "metadata": {},
   "source": [
    "## INFOH515 Pyspark code\n",
    "## Author: Gianluca Bontempi\n",
    "## Pyspark implementation of the correlation  in the INFOH515 slides \"Map-reduce analytics\" "
   ]
  },
  {
   "cell_type": "code",
   "execution_count": 1,
   "id": "81ea3579",
   "metadata": {},
   "outputs": [
    {
     "name": "stderr",
     "output_type": "stream",
     "text": [
      "Setting default log level to \"WARN\".\n",
      "To adjust logging level use sc.setLogLevel(newLevel). For SparkR, use setLogLevel(newLevel).\n",
      "25/03/17 17:02:35 WARN NativeCodeLoader: Unable to load native-hadoop library for your platform... using builtin-java classes where applicable\n",
      "25/03/17 17:02:36 WARN Utils: Service 'SparkUI' could not bind on port 4040. Attempting port 4041.\n",
      "25/03/17 17:02:36 WARN Utils: Service 'SparkUI' could not bind on port 4041. Attempting port 4042.\n"
     ]
    }
   ],
   "source": [
    "import numpy as np\n",
    "import pwd\n",
    "import getpass\n",
    "import os\n",
    "from pyspark import SparkContext, SparkConf\n",
    "from pyspark.sql import SparkSession\n",
    "from pyspark.sql.functions import avg, sum\n",
    "from pyspark.mllib.tree import RandomForest, RandomForestModel\n",
    "from sklearn import linear_model\n",
    "from sklearn import datasets\n",
    "from sklearn.ensemble import RandomForestRegressor\n",
    "from sklearn.ensemble import RandomForestClassifier\n",
    "\n",
    "\n",
    "# create an instance of SparkSession\n",
    "spark=SparkSession.builder.appName('s.com').getOrCreate()\n",
    "sc=spark.sparkContext"
   ]
  },
  {
   "cell_type": "code",
   "execution_count": 2,
   "id": "54506baa",
   "metadata": {},
   "outputs": [],
   "source": [
    "\n",
    "np.random.seed(1225)   \n",
    "sdn=np.random.uniform(0.15,0.25)\n",
    "n=10# number of features\n",
    "N=20 # number of samples\n",
    "p=5\n",
    "mean=np.zeros(n)\n",
    "meanY=np.zeros(p)\n",
    "X=np.random.multivariate_normal(mean, np.identity(n), N)\n",
    "Y=np.random.multivariate_normal(meanY, np.identity(p), n)"
   ]
  },
  {
   "cell_type": "code",
   "execution_count": 3,
   "id": "147ac771",
   "metadata": {},
   "outputs": [],
   "source": [
    "rddX=sc.parallelize(X)\n"
   ]
  },
  {
   "cell_type": "code",
   "execution_count": 6,
   "id": "5127e864",
   "metadata": {},
   "outputs": [],
   "source": [
    "def corrsplit(x):\n",
    "    n=len(x)\n",
    "    L=[]\n",
    "    for i in np.arange(n):\n",
    "        for j in np.arange(i+1,n):\n",
    "                L=L+[((i,j),(x[i],x[j]))]\n",
    "    return(L)\n",
    "    # list of key values ((i,j),(x[i],x[j]))\n",
    "\n",
    "def corcomp(x):\n",
    "    L=list(x[1])\n",
    "    x1=[item[0] for item in L]\n",
    "    x2=[item[1] for item in L]\n",
    "    return(np.corrcoef(x1,x2)[0,1])"
   ]
  },
  {
   "cell_type": "code",
   "execution_count": 18,
   "id": "5285520b",
   "metadata": {},
   "outputs": [
    {
     "data": {
      "text/plain": [
       "[((0, 1), 0.061721884015570924),\n",
       " ((0, 2), -0.35742296416076724),\n",
       " ((0, 3), 0.13456538786517377),\n",
       " ((0, 4), 0.1915174429870057),\n",
       " ((0, 5), 0.14800657328727776),\n",
       " ((0, 6), 0.2645638418249283),\n",
       " ((0, 7), 0.06120226010846439),\n",
       " ((0, 8), 0.22306203346834316),\n",
       " ((0, 9), -0.28135686974426843)]"
      ]
     },
     "execution_count": 18,
     "metadata": {},
     "output_type": "execute_result"
    }
   ],
   "source": [
    "rddCor=rddX.flatMap(lambda x: corrsplit(x)).groupByKey().map(lambda x: [x[0],corcomp(x)]).sortByKey()\n",
    "rddCor.take(9)"
   ]
  },
  {
   "cell_type": "markdown",
   "id": "52d4f0b8",
   "metadata": {},
   "source": [
    "### Verification of the resulting by comparing with an in-memory function"
   ]
  },
  {
   "cell_type": "code",
   "execution_count": 17,
   "id": "aaa75b00",
   "metadata": {},
   "outputs": [
    {
     "name": "stdout",
     "output_type": "stream",
     "text": [
      "(0, 1 ), 0.061721884015570924\n",
      "(0, 2 ), -0.35742296416076724\n",
      "(0, 3 ), 0.13456538786517377\n",
      "(0, 4 ), 0.1915174429870057\n",
      "(0, 5 ), 0.14800657328727776\n",
      "(0, 6 ), 0.2645638418249283\n",
      "(0, 7 ), 0.06120226010846439\n",
      "(0, 8 ), 0.22306203346834316\n",
      "(0, 9 ), -0.28135686974426843\n"
     ]
    }
   ],
   "source": [
    "for i in np.arange(1,n):\n",
    "    print(\"(0,\",i,\"),\",np.corrcoef(X[:,0],X[:,i])[0,1])\n",
    "# check the result"
   ]
  },
  {
   "cell_type": "markdown",
   "id": "f079e28b",
   "metadata": {},
   "source": [
    "## Computation $X^T Y$"
   ]
  },
  {
   "cell_type": "code",
   "execution_count": null,
   "id": "6136e61b",
   "metadata": {},
   "outputs": [],
   "source": [
    "\n",
    "p=5\n",
    "\n",
    "meanY=np.zeros(p)\n",
    "\n",
    "Y=np.random.multivariate_normal(meanY, np.identity(p), n)\n",
    "\n",
    "rddY=sc.parallelize(Y)\n"
   ]
  },
  {
   "cell_type": "code",
   "execution_count": 27,
   "id": "5d58b47b",
   "metadata": {},
   "outputs": [
    {
     "name": "stderr",
     "output_type": "stream",
     "text": [
      "                                                                                \r"
     ]
    },
    {
     "data": {
      "text/plain": [
       "[((0, 0), -1.8426689425175622),\n",
       " ((0, 1), -1.0177298985236614),\n",
       " ((0, 2), -1.7227970320364898),\n",
       " ((0, 3), -0.27668620350378625),\n",
       " ((0, 4), -1.1221315070031475),\n",
       " ((1, 0), -1.6453847403345523),\n",
       " ((1, 1), 0.15123482549006195),\n",
       " ((1, 2), -0.3799336826977642),\n",
       " ((1, 3), 1.112248214027636),\n",
       " ((1, 4), 0.11255788462816119)]"
      ]
     },
     "execution_count": 27,
     "metadata": {},
     "output_type": "execute_result"
    }
   ],
   "source": [
    "def splitX(x):   \n",
    "    row=x[0]\n",
    "    x=x[1]\n",
    "    n=len(x)\n",
    "    L=[]\n",
    "    for j in np.arange(n):\n",
    "        L=L+[(j,(row,x[j]))]\n",
    "    return(L)\n",
    "    # list of key values ((j,(i,x[i,j]))\n",
    "\n",
    "def splitY(y):   \n",
    "    row=y[0]\n",
    "    y=y[1]\n",
    "    n=len(y)\n",
    "    L=[]\n",
    "    for k in np.arange(n):\n",
    "        L=L+[(row,(k,y[k]))]\n",
    "    return(L)\n",
    "      # list of key values ((j,(k,y[j,k]))\n",
    "    \n",
    "\n",
    "\n",
    "X1=rddX.zipWithIndex().map(lambda x: (x[1],x[0])).flatMap(lambda x: splitX(x)).sortByKey()\n",
    "X1.collect()\n",
    "Y1=rddY.zipWithIndex().map(lambda x: (x[1],x[0])).flatMap(lambda y: splitY(y))\n",
    "Y1.first()\n",
    "def combine(x):\n",
    "    key=x[0]\n",
    "    listx=list(x[1][0])\n",
    "    listy=list(x[1][1])\n",
    "    nx=len(listx)\n",
    "    ny=len(listy)\n",
    "    L=[]\n",
    "    for lx in np.arange(nx):\n",
    "        for ly in np.arange(ny):\n",
    "            #L=L+[(key,(listx[lx][0],listy[ly][0], listx[lx][1]*listy[ly][1]))]\n",
    "            L=L+[((listx[lx][0],listy[ly][0]), listx[lx][1]*listy[ly][1])]\n",
    "    return(L)\n",
    "\n",
    "## (j,(i,x[i,j])) (j,(k,y[j,k]))\n",
    "## group and make ((i,k), x[i,j]*y[j,k])\n",
    "## group and sum all (i,k)\n",
    "X1.groupWith(Y1).flatMap(lambda x:combine(x)).reduceByKey(lambda x,y:x+y).sortByKey().take(10)"
   ]
  },
  {
   "cell_type": "markdown",
   "id": "2546298f",
   "metadata": {},
   "source": [
    "### Verification of the resulting by comparing with an in-memory function"
   ]
  },
  {
   "cell_type": "code",
   "execution_count": 41,
   "id": "a0af1326",
   "metadata": {},
   "outputs": [
    {
     "data": {
      "text/plain": [
       "array([[-1.84266894, -1.0177299 , -1.72279703, -0.2766862 , -1.12213151],\n",
       "       [-1.64538474,  0.15123483, -0.37993368,  1.11224821,  0.11255788],\n",
       "       [ 2.61158727, -4.79120644,  3.41997853,  1.63344031, -7.70307135],\n",
       "       [-0.62008517,  1.10180426,  0.21125909,  1.31295986,  5.47441629],\n",
       "       [ 5.03583958, -3.89114357, -4.33563491,  1.97492233,  2.95800165],\n",
       "       [ 3.95091408, -3.44837428,  4.98728794, -4.09511504, -5.22500791],\n",
       "       [ 1.72643668, -3.78699367, -3.88245399,  4.19031368, -1.28915313],\n",
       "       [ 2.37086386,  0.42593202, -0.94177944,  2.07741272,  3.17182894],\n",
       "       [ 1.44214637,  2.33556705, -3.42683677, -4.90994847,  0.97654087],\n",
       "       [ 3.31005729,  0.20398676,  6.54961344, -3.1342704 ,  1.79568593],\n",
       "       [-4.8523059 ,  2.91073198,  1.21234343,  0.48011586,  1.36079966],\n",
       "       [ 2.01794444,  0.34007773,  2.88162247,  0.70352363,  0.31269358],\n",
       "       [ 1.30273713,  0.86475189,  3.07815784, -2.46123637,  0.75800103],\n",
       "       [-1.71776693,  1.54305482, -2.27779843, -0.42291175, -0.71192846],\n",
       "       [ 0.49047622, -4.02684645,  0.27508518,  0.77687971, -4.75543329],\n",
       "       [ 0.35310193,  2.03935448, -2.49269007,  1.19752398,  0.57185449],\n",
       "       [-3.4123658 , -2.52083405, -0.45633851,  2.4744508 , -2.29234013],\n",
       "       [ 2.1442663 ,  1.00911076, -0.39470646,  1.40608723, -1.50435982],\n",
       "       [ 0.46094083, -0.35878769, -3.9540976 , -2.37003863, -2.98202597],\n",
       "       [-1.53346931,  4.91870657, -1.95548139, -0.11469724,  1.45701988]])"
      ]
     },
     "execution_count": 41,
     "metadata": {},
     "output_type": "execute_result"
    }
   ],
   "source": [
    "np.dot(X,Y)"
   ]
  },
  {
   "cell_type": "code",
   "execution_count": null,
   "id": "1c830296",
   "metadata": {},
   "outputs": [],
   "source": []
  }
 ],
 "metadata": {
  "kernelspec": {
   "display_name": "Python 3 (ipykernel)",
   "language": "python",
   "name": "python3"
  },
  "language_info": {
   "codemirror_mode": {
    "name": "ipython",
    "version": 3
   },
   "file_extension": ".py",
   "mimetype": "text/x-python",
   "name": "python",
   "nbconvert_exporter": "python",
   "pygments_lexer": "ipython3",
   "version": "3.11.7"
  }
 },
 "nbformat": 4,
 "nbformat_minor": 5
}
