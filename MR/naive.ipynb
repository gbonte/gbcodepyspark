{
 "cells": [
  {
   "cell_type": "markdown",
   "metadata": {},
   "source": [
    "## INFOH515 Pyspark code\n",
    "## Author: Gianluca Bontempi\n",
    "## Pyspark implementation of naive classifier"
   ]
  },
  {
   "cell_type": "code",
   "execution_count": 2,
   "metadata": {
    "id": "LC_uNQ0nUz4_"
   },
   "outputs": [
    {
     "name": "stderr",
     "output_type": "stream",
     "text": [
      "Setting default log level to \"WARN\".\n",
      "To adjust logging level use sc.setLogLevel(newLevel). For SparkR, use setLogLevel(newLevel).\n",
      "25/03/14 16:58:33 WARN NativeCodeLoader: Unable to load native-hadoop library for your platform... using builtin-java classes where applicable\n",
      "25/03/14 16:58:34 WARN Utils: Service 'SparkUI' could not bind on port 4040. Attempting port 4041.\n",
      "25/03/14 16:58:34 WARN Utils: Service 'SparkUI' could not bind on port 4041. Attempting port 4042.\n",
      "25/03/14 16:58:34 WARN Utils: Service 'SparkUI' could not bind on port 4042. Attempting port 4043.\n",
      "25/03/14 16:58:34 WARN Utils: Service 'SparkUI' could not bind on port 4043. Attempting port 4044.\n"
     ]
    }
   ],
   "source": [
    "import numpy as np\n",
    "import pwd\n",
    "import getpass\n",
    "import os\n",
    "from pyspark import SparkContext, SparkConf\n",
    "from pyspark.sql import SparkSession\n",
    "from pyspark.sql.functions import avg, sum\n",
    "userName = getpass.getuser()\n",
    "appName = pwd.getpwuid( os.getuid() )[ 0 ]\n",
    "\n",
    "\n",
    "# create an instance of SparkSession\n",
    "spark=SparkSession.builder.appName('s.com').getOrCreate()\n",
    "sc=spark.sparkContext"
   ]
  },
  {
   "cell_type": "code",
   "execution_count": 3,
   "metadata": {
    "id": "cZXS4LT0VKIR"
   },
   "outputs": [],
   "source": [
    "dataset = sc.textFile(\"naiveDATA\").map(lambda x : x.split(\",\"))"
   ]
  },
  {
   "cell_type": "code",
   "execution_count": 4,
   "metadata": {
    "colab": {
     "base_uri": "https://localhost:8080/"
    },
    "id": "kp20zGz_VNSr",
    "outputId": "3f5c58e8-c4b5-4a01-9b92-89d6ecc5b44b"
   },
   "outputs": [
    {
     "name": "stderr",
     "output_type": "stream",
     "text": [
      "                                                                                "
     ]
    },
    {
     "data": {
      "text/plain": [
       "[['1', 'Sunny', 'Hot', 'High', 'Weak', 'NO'],\n",
       " ['2', 'Sunny', 'Hot', 'High', 'Strong', 'NO'],\n",
       " ['3', 'Overcast', 'Hot', 'High', 'Weak', 'YES'],\n",
       " ['4', 'Rain', 'Mild', 'High', 'Weak', 'YES'],\n",
       " ['5', 'Rain', 'Cool', 'Normal', 'Weak', 'YES'],\n",
       " ['6', 'Rain', 'Cool', 'Normal', 'Strong', 'NO'],\n",
       " ['7', 'Overcast', 'Cool', 'Normal', 'Strong', 'YES'],\n",
       " ['8', 'Sunny', 'Mild', 'High', 'Weak', 'NO'],\n",
       " ['9', 'Sunny', 'Cool', 'Normal', 'Weak', 'YES'],\n",
       " ['10', 'Rain', 'Mild', 'Normal', 'Weak', 'YES'],\n",
       " ['11', 'Sunny', 'Mild', 'Normal', 'Strong', 'YES'],\n",
       " ['12', 'Overcast', 'Mild', 'High', 'Strong', 'YES'],\n",
       " ['13', 'Overcast', 'Hot', 'Normal', 'Weak', 'YES'],\n",
       " ['14', 'Rain', 'Mild', 'High', 'Strong', 'NO'],\n",
       " ['']]"
      ]
     },
     "execution_count": 4,
     "metadata": {},
     "output_type": "execute_result"
    }
   ],
   "source": [
    "dataset.collect()"
   ]
  },
  {
   "cell_type": "code",
   "execution_count": 5,
   "metadata": {
    "id": "9-WioIMhVQsc"
   },
   "outputs": [],
   "source": [
    "NB=dataset.flatMap(lambda x: [((x[i],x[-1]),1) for i in range(1,len(x))]).reduceByKey(lambda a,b:a+b)"
   ]
  },
  {
   "cell_type": "code",
   "execution_count": 6,
   "metadata": {
    "colab": {
     "base_uri": "https://localhost:8080/"
    },
    "id": "M1Z5oeSmXOaG",
    "outputId": "8340888b-09eb-46d6-a1a1-6ba1fc4603ee"
   },
   "outputs": [
    {
     "data": {
      "text/plain": [
       "[(('Sunny', 'NO'), 3),\n",
       " (('Hot', 'NO'), 2),\n",
       " (('NO', 'NO'), 5),\n",
       " (('Overcast', 'YES'), 4),\n",
       " (('High', 'YES'), 3),\n",
       " (('Weak', 'YES'), 6),\n",
       " (('YES', 'YES'), 9),\n",
       " (('Rain', 'YES'), 3),\n",
       " (('Cool', 'YES'), 3),\n",
       " (('Normal', 'YES'), 6),\n",
       " (('Strong', 'YES'), 3),\n",
       " (('Mild', 'NO'), 2),\n",
       " (('High', 'NO'), 4),\n",
       " (('Weak', 'NO'), 2),\n",
       " (('Strong', 'NO'), 3),\n",
       " (('Hot', 'YES'), 2),\n",
       " (('Mild', 'YES'), 4),\n",
       " (('Rain', 'NO'), 2),\n",
       " (('Cool', 'NO'), 1),\n",
       " (('Normal', 'NO'), 1),\n",
       " (('Sunny', 'YES'), 2)]"
      ]
     },
     "execution_count": 6,
     "metadata": {},
     "output_type": "execute_result"
    }
   ],
   "source": [
    "NB.collect()"
   ]
  },
  {
   "cell_type": "code",
   "execution_count": 7,
   "metadata": {
    "id": "i7maBbXpXRj-"
   },
   "outputs": [],
   "source": [
    "classval=\"NO\"\n",
    "xval=\"Sunny\"\n",
    "Num=NB.filter(lambda x : x[0][0]==xval and x[0][1]==classval).map(lambda x: x[1]).collect()[0]\n",
    "Den=NB.filter(lambda x : x[0][0]==classval and x[0][1]==classval).map(lambda x: x[1]).collect()[0]"
   ]
  },
  {
   "cell_type": "code",
   "execution_count": 8,
   "metadata": {
    "id": "daX5szNsXWJz"
   },
   "outputs": [
    {
     "data": {
      "text/plain": [
       "0.6"
      ]
     },
     "execution_count": 8,
     "metadata": {},
     "output_type": "execute_result"
    }
   ],
   "source": [
    "Num/Den"
   ]
  },
  {
   "cell_type": "code",
   "execution_count": null,
   "metadata": {},
   "outputs": [],
   "source": []
  },
  {
   "cell_type": "code",
   "execution_count": null,
   "metadata": {},
   "outputs": [],
   "source": []
  }
 ],
 "metadata": {
  "colab": {
   "provenance": []
  },
  "kernelspec": {
   "display_name": "Python 3 (ipykernel)",
   "language": "python",
   "name": "python3"
  },
  "language_info": {
   "codemirror_mode": {
    "name": "ipython",
    "version": 3
   },
   "file_extension": ".py",
   "mimetype": "text/x-python",
   "name": "python",
   "nbconvert_exporter": "python",
   "pygments_lexer": "ipython3",
   "version": "3.12.8"
  }
 },
 "nbformat": 4,
 "nbformat_minor": 4
}
