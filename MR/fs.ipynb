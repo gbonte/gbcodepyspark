{
 "cells": [
  {
   "cell_type": "markdown",
   "id": "c532057c-baba-4970-87a3-2603950ac0e7",
   "metadata": {},
   "source": [
    "## INFOH515 Pyspark code\n",
    "## Author: Gianluca Bontempi\n",
    "## Pyspark implementation of forward feature selection"
   ]
  },
  {
   "cell_type": "code",
   "execution_count": 4,
   "id": "9c4142b2-9777-4af0-8f5d-d60c969f2ea2",
   "metadata": {
    "scrolled": true
   },
   "outputs": [
    {
     "name": "stderr",
     "output_type": "stream",
     "text": [
      "Setting default log level to \"WARN\".\n",
      "To adjust logging level use sc.setLogLevel(newLevel). For SparkR, use setLogLevel(newLevel).\n",
      "25/03/14 17:12:59 WARN NativeCodeLoader: Unable to load native-hadoop library for your platform... using builtin-java classes where applicable\n",
      "25/03/14 17:12:59 WARN Utils: Service 'SparkUI' could not bind on port 4040. Attempting port 4041.\n"
     ]
    }
   ],
   "source": [
    "import numpy as np\n",
    "import pwd\n",
    "\n",
    "import os\n",
    "from pyspark import SparkContext, SparkConf\n",
    "from pyspark.sql import SparkSession\n",
    "from pyspark.sql.functions import avg, sum\n",
    "\n",
    "\n",
    "from sklearn import linear_model\n",
    "import sklearn.metrics as sm\n",
    "\n",
    "from sklearn.metrics import mean_squared_error, explained_variance_score\n",
    "from sklearn.utils import shuffle\n",
    "from sklearn import datasets\n",
    "from sklearn import model_selection\n",
    "\n",
    "\n",
    "\n",
    "# create an instance of SparkSession\n",
    "spark=SparkSession.builder.appName('s.com').getOrCreate()\n",
    "sc=spark.sparkContext"
   ]
  },
  {
   "cell_type": "markdown",
   "id": "20ead94a-a16e-44c7-b241-d127d01e012b",
   "metadata": {},
   "source": [
    "## Dataset generation\n"
   ]
  },
  {
   "cell_type": "code",
   "execution_count": 5,
   "id": "8357ff69-8e78-4976-9368-d28d0b232fec",
   "metadata": {},
   "outputs": [],
   "source": [
    "\n",
    "\n",
    "n=10 # number of features\n",
    "N=5000 # number of samples\n",
    "\n",
    "relf=[1,2,3,n-1]  ## relevant features\n",
    "nrel= len(relf)  ## number of relevant  feature\n",
    "\n",
    "X= np.random.normal(loc=0, scale=1, size=N * n).reshape(N, n)\n",
    "#X=np.concatenate((np.ones((N,1)),X), axis=1)\n",
    "\n",
    "Y=np.zeros((N,1))\n",
    "for j in np.arange(nrel):\n",
    "    Y=Y+X[:,relf[j]].reshape(N, 1)\n",
    "    Y=Y.reshape(N, 1)\n",
    "    \n",
    "    \n",
    "Y=Y+np.random.normal(loc=0, scale=0.1, size=N ).reshape(N, 1)\n",
    "Y=Y.reshape(N, 1)\n",
    "\n",
    "\n",
    "XY = np.concatenate((X,Y), axis=1)\n",
    "dataset=sc.parallelize(XY)\n"
   ]
  },
  {
   "cell_type": "markdown",
   "id": "2038caee-17df-4d2d-a2f4-b1895a653dc4",
   "metadata": {},
   "source": [
    "## Memory-resident least-squares implementation"
   ]
  },
  {
   "cell_type": "code",
   "execution_count": 6,
   "id": "86934b37-1a04-4fa8-a2dc-e7e84ffef14f",
   "metadata": {},
   "outputs": [],
   "source": [
    "def error(X,y):\n",
    "    # returns training error for a least-squares model\n",
    "    linear_regressor = linear_model.LinearRegression()\n",
    "\n",
    "    # Train the model using the training sets\n",
    "    linear_regressor.fit(X, y)\n",
    "    ypred = linear_regressor.predict(X)\n",
    "    \n",
    "    return np.mean((pow(y-ypred,2.0)))"
   ]
  },
  {
   "cell_type": "markdown",
   "id": "2b88846c-d3c4-41a6-9583-ced5d355783d",
   "metadata": {},
   "source": [
    "## Map function x-> (col, ([x[col],x[selected],x[-1]))"
   ]
  },
  {
   "cell_type": "code",
   "execution_count": 7,
   "id": "161f978b-bb1d-407f-845b-9b9760b5aec7",
   "metadata": {},
   "outputs": [],
   "source": [
    "def mapf(x):\n",
    "    l=len(x)\n",
    "    s=len(bselected.value)\n",
    "    # map has access to the brodcasted set of selected features\n",
    "    outm=[]\n",
    "    for i in range(l-1):\n",
    "        if (not i in bselected.value):\n",
    "            if s>0:\n",
    "                outm=outm+[(i, (x[[i]+bselected.value+[l-1]]))]\n",
    "            else:\n",
    "                outm=outm+[(i, (x[[i]+[l-1]]))]\n",
    "                ## concatenates the values of the considered feature and the selected features\n",
    "    return(outm)"
   ]
  },
  {
   "cell_type": "markdown",
   "id": "3d85b89a-f73c-402c-891c-97118445826b",
   "metadata": {},
   "source": [
    "## Map outcome at the first step of forward selection¶"
   ]
  },
  {
   "cell_type": "code",
   "execution_count": 8,
   "id": "75fac46a-5d84-45d4-91bc-02e973701974",
   "metadata": {},
   "outputs": [
    {
     "name": "stderr",
     "output_type": "stream",
     "text": [
      "                                                                                "
     ]
    },
    {
     "data": {
      "text/plain": [
       "[(0,\n",
       "  array([[-0.16752656,  0.27600833],\n",
       "         [ 0.79286448,  1.12030563],\n",
       "         [-0.57164512,  0.92643661],\n",
       "         ...,\n",
       "         [ 0.18651379,  0.2022259 ],\n",
       "         [-0.55820718,  2.29584986],\n",
       "         [ 1.33007707, -0.00266216]])),\n",
       " (1,\n",
       "  array([[ 0.81656261,  0.27600833],\n",
       "         [ 0.30634826,  1.12030563],\n",
       "         [ 0.45346242,  0.92643661],\n",
       "         ...,\n",
       "         [-0.46662729,  0.2022259 ],\n",
       "         [-0.6131301 ,  2.29584986],\n",
       "         [ 0.87580367, -0.00266216]])),\n",
       " (2,\n",
       "  array([[-0.6955622 ,  0.27600833],\n",
       "         [-1.05745239,  1.12030563],\n",
       "         [-1.34450672,  0.92643661],\n",
       "         ...,\n",
       "         [-0.68215537,  0.2022259 ],\n",
       "         [ 1.83916175,  2.29584986],\n",
       "         [ 0.16386823, -0.00266216]])),\n",
       " (3,\n",
       "  array([[ 0.6412275 ,  0.27600833],\n",
       "         [ 1.45289494,  1.12030563],\n",
       "         [ 0.98463324,  0.92643661],\n",
       "         ...,\n",
       "         [ 1.57342108,  0.2022259 ],\n",
       "         [ 0.89621061,  2.29584986],\n",
       "         [-2.22792634, -0.00266216]])),\n",
       " (4,\n",
       "  array([[-0.35788217,  0.27600833],\n",
       "         [-0.73915011,  1.12030563],\n",
       "         [ 0.89539875,  0.92643661],\n",
       "         ...,\n",
       "         [-0.57694738,  0.2022259 ],\n",
       "         [-0.04084188,  2.29584986],\n",
       "         [ 1.45978198, -0.00266216]])),\n",
       " (5,\n",
       "  array([[ 0.66109567,  0.27600833],\n",
       "         [-2.23168354,  1.12030563],\n",
       "         [ 0.17939514,  0.92643661],\n",
       "         ...,\n",
       "         [-1.86059752,  0.2022259 ],\n",
       "         [ 0.33712634,  2.29584986],\n",
       "         [ 0.35910482, -0.00266216]])),\n",
       " (6,\n",
       "  array([[-0.37663214,  0.27600833],\n",
       "         [ 1.31906375,  1.12030563],\n",
       "         [ 0.19775272,  0.92643661],\n",
       "         ...,\n",
       "         [-0.14339482,  0.2022259 ],\n",
       "         [ 0.76311314,  2.29584986],\n",
       "         [-0.43758797, -0.00266216]])),\n",
       " (7,\n",
       "  array([[ 0.83225731,  0.27600833],\n",
       "         [ 0.51249675,  1.12030563],\n",
       "         [ 0.88265888,  0.92643661],\n",
       "         ...,\n",
       "         [-0.53123744,  0.2022259 ],\n",
       "         [-0.35256818,  2.29584986],\n",
       "         [ 1.32167418, -0.00266216]])),\n",
       " (8,\n",
       "  array([[-0.9562681 ,  0.27600833],\n",
       "         [ 1.0387644 ,  1.12030563],\n",
       "         [-0.63147072,  0.92643661],\n",
       "         ...,\n",
       "         [ 1.10814496,  0.2022259 ],\n",
       "         [ 0.71115858,  2.29584986],\n",
       "         [ 0.00675394, -0.00266216]])),\n",
       " (9,\n",
       "  array([[-0.51613662,  0.27600833],\n",
       "         [ 0.41285953,  1.12030563],\n",
       "         [ 0.81263344,  0.92643661],\n",
       "         ...,\n",
       "         [-0.2584925 ,  0.2022259 ],\n",
       "         [ 0.29220088,  2.29584986],\n",
       "         [ 1.09478035, -0.00266216]]))]"
      ]
     },
     "execution_count": 8,
     "metadata": {},
     "output_type": "execute_result"
    }
   ],
   "source": [
    "selected=[]\n",
    "# At the beginning selected is empty\n",
    "\n",
    "bselected = sc.broadcast(selected)\n",
    "# it broadcasts the set of already selected features \n",
    "D=dataset.flatMap(lambda x: mapf(x)).reduceByKey(lambda a,b: np.vstack((a,b)))\n",
    "# for each non selected feature, it returns both the input and the output\n",
    "D.collect()"
   ]
  },
  {
   "cell_type": "code",
   "execution_count": 9,
   "id": "fcc8ee57-bbc7-4c84-9ac6-6bd9cb4e92bd",
   "metadata": {},
   "outputs": [
    {
     "name": "stderr",
     "output_type": "stream",
     "text": [
      "                                                                                "
     ]
    },
    {
     "data": {
      "text/plain": [
       "[(0, 4.022878565550321),\n",
       " (1, 3.0011607533144233),\n",
       " (2, 3.0286937665383356),\n",
       " (3, 2.9988915428515988),\n",
       " (4, 4.022604555143927),\n",
       " (5, 4.022876286587886),\n",
       " (6, 4.022884832816399),\n",
       " (7, 4.022800934931382),\n",
       " (8, 4.021801260260533),\n",
       " (9, 3.0164124836593116)]"
      ]
     },
     "execution_count": 9,
     "metadata": {},
     "output_type": "execute_result"
    }
   ],
   "source": [
    "# it computes the error for each considered feature\n",
    "# error function takes as input A (in this case a single column) and y \n",
    "D.reduceByKey(lambda a,b: np.vstack((a,b))).map(lambda x: (x[0],error(x[1][:,:-1],x[1][:,-1]))).collect()"
   ]
  },
  {
   "cell_type": "markdown",
   "id": "b511856e-da0b-46fa-b719-824b4f49f094",
   "metadata": {},
   "source": [
    "### Map outcome at the second step of forward selection¶"
   ]
  },
  {
   "cell_type": "code",
   "execution_count": 10,
   "id": "887da22f-2ebb-4a21-89a7-efe38a2643f4",
   "metadata": {},
   "outputs": [
    {
     "data": {
      "text/plain": [
       "[(0,\n",
       "  array([[-0.16752656,  0.81656261,  0.27600833],\n",
       "         [ 0.79286448,  0.30634826,  1.12030563],\n",
       "         [-0.57164512,  0.45346242,  0.92643661],\n",
       "         ...,\n",
       "         [ 0.18651379, -0.46662729,  0.2022259 ],\n",
       "         [-0.55820718, -0.6131301 ,  2.29584986],\n",
       "         [ 1.33007707,  0.87580367, -0.00266216]])),\n",
       " (2,\n",
       "  array([[-0.6955622 ,  0.81656261,  0.27600833],\n",
       "         [-1.05745239,  0.30634826,  1.12030563],\n",
       "         [-1.34450672,  0.45346242,  0.92643661],\n",
       "         ...,\n",
       "         [-0.68215537, -0.46662729,  0.2022259 ],\n",
       "         [ 1.83916175, -0.6131301 ,  2.29584986],\n",
       "         [ 0.16386823,  0.87580367, -0.00266216]])),\n",
       " (3,\n",
       "  array([[ 0.6412275 ,  0.81656261,  0.27600833],\n",
       "         [ 1.45289494,  0.30634826,  1.12030563],\n",
       "         [ 0.98463324,  0.45346242,  0.92643661],\n",
       "         ...,\n",
       "         [ 1.57342108, -0.46662729,  0.2022259 ],\n",
       "         [ 0.89621061, -0.6131301 ,  2.29584986],\n",
       "         [-2.22792634,  0.87580367, -0.00266216]])),\n",
       " (4,\n",
       "  array([[-0.35788217,  0.81656261,  0.27600833],\n",
       "         [-0.73915011,  0.30634826,  1.12030563],\n",
       "         [ 0.89539875,  0.45346242,  0.92643661],\n",
       "         ...,\n",
       "         [-0.57694738, -0.46662729,  0.2022259 ],\n",
       "         [-0.04084188, -0.6131301 ,  2.29584986],\n",
       "         [ 1.45978198,  0.87580367, -0.00266216]])),\n",
       " (5,\n",
       "  array([[ 0.66109567,  0.81656261,  0.27600833],\n",
       "         [-2.23168354,  0.30634826,  1.12030563],\n",
       "         [ 0.17939514,  0.45346242,  0.92643661],\n",
       "         ...,\n",
       "         [-1.86059752, -0.46662729,  0.2022259 ],\n",
       "         [ 0.33712634, -0.6131301 ,  2.29584986],\n",
       "         [ 0.35910482,  0.87580367, -0.00266216]])),\n",
       " (6,\n",
       "  array([[-0.37663214,  0.81656261,  0.27600833],\n",
       "         [ 1.31906375,  0.30634826,  1.12030563],\n",
       "         [ 0.19775272,  0.45346242,  0.92643661],\n",
       "         ...,\n",
       "         [-0.14339482, -0.46662729,  0.2022259 ],\n",
       "         [ 0.76311314, -0.6131301 ,  2.29584986],\n",
       "         [-0.43758797,  0.87580367, -0.00266216]])),\n",
       " (7,\n",
       "  array([[ 0.83225731,  0.81656261,  0.27600833],\n",
       "         [ 0.51249675,  0.30634826,  1.12030563],\n",
       "         [ 0.88265888,  0.45346242,  0.92643661],\n",
       "         ...,\n",
       "         [-0.53123744, -0.46662729,  0.2022259 ],\n",
       "         [-0.35256818, -0.6131301 ,  2.29584986],\n",
       "         [ 1.32167418,  0.87580367, -0.00266216]])),\n",
       " (8,\n",
       "  array([[-0.9562681 ,  0.81656261,  0.27600833],\n",
       "         [ 1.0387644 ,  0.30634826,  1.12030563],\n",
       "         [-0.63147072,  0.45346242,  0.92643661],\n",
       "         ...,\n",
       "         [ 1.10814496, -0.46662729,  0.2022259 ],\n",
       "         [ 0.71115858, -0.6131301 ,  2.29584986],\n",
       "         [ 0.00675394,  0.87580367, -0.00266216]])),\n",
       " (9,\n",
       "  array([[-0.51613662,  0.81656261,  0.27600833],\n",
       "         [ 0.41285953,  0.30634826,  1.12030563],\n",
       "         [ 0.81263344,  0.45346242,  0.92643661],\n",
       "         ...,\n",
       "         [-0.2584925 , -0.46662729,  0.2022259 ],\n",
       "         [ 0.29220088, -0.6131301 ,  2.29584986],\n",
       "         [ 1.09478035,  0.87580367, -0.00266216]]))]"
      ]
     },
     "execution_count": 10,
     "metadata": {},
     "output_type": "execute_result"
    }
   ],
   "source": [
    "selected=[1]\n",
    "#suppose that the first selected variable is the number 1\n",
    "\n",
    "bselected = sc.broadcast(selected)\n",
    "# it broadcasts the set of already selected featuresD=dataset.flatMap(lambda x: mapf(x))\n",
    "D=dataset.flatMap(lambda x: mapf(x)).reduceByKey(lambda a,b: np.vstack((a,b)))\n",
    "# for each non selected feature, it returns both the input and the output\n",
    "D.collect()"
   ]
  },
  {
   "cell_type": "markdown",
   "id": "a7f8577e-6c9c-435d-a1de-d701cd23dc30",
   "metadata": {},
   "source": [
    "## Forward selection¶"
   ]
  },
  {
   "cell_type": "code",
   "execution_count": 11,
   "id": "aded6d35-ad02-4399-8053-d9c670a5c31d",
   "metadata": {},
   "outputs": [
    {
     "name": "stdout",
     "output_type": "stream",
     "text": [
      "2.9988915428515988\n",
      "[3]\n",
      "1.9718258612497392\n",
      "[3, 1]\n",
      "0.9837110312756228\n",
      "[3, 1, 9]\n",
      "0.009649939943486672\n",
      "[3, 1, 9, 2]\n"
     ]
    }
   ],
   "source": [
    "selected=[]\n",
    "bselected = sc.broadcast(selected)\n",
    "# it broadcasts the set of already selected features\n",
    "\n",
    "\n",
    "for j in range(len(relf)):\n",
    "    D=dataset.flatMap(lambda x: mapf(x))\n",
    "    ERR=D.reduceByKey(lambda a,b: np.vstack((a,b))).map(lambda x: (x[0],error(x[1][:,:-1],x[1][:,-1]))).collect()\n",
    "    bestfs=0\n",
    "    bestErr=100\n",
    "    for i in range(len(ERR)):\n",
    "        if ERR[i][1]<bestErr:\n",
    "            bestErr=ERR[i][1]\n",
    "            bestfs=ERR[i][0]\n",
    "    print(bestErr)\n",
    "    selected=selected+[bestfs]\n",
    "    bselected = sc.broadcast(selected)\n",
    "    print(selected)"
   ]
  },
  {
   "cell_type": "markdown",
   "id": "bcffeec1-202f-4ae4-abf1-4ff15a6df4ab",
   "metadata": {},
   "source": [
    "## Check of the quality of the selected features"
   ]
  },
  {
   "cell_type": "code",
   "execution_count": 104,
   "id": "b3c0ee2c-addc-46a0-9f69-beca034e22c1",
   "metadata": {},
   "outputs": [
    {
     "name": "stdout",
     "output_type": "stream",
     "text": [
      "Relevant= [1 2 3 9] Selected= [1 2 3 9]\n"
     ]
    }
   ],
   "source": [
    "print(\"Relevant=\", np.sort(relf), \"Selected=\",np.sort(selected))"
   ]
  },
  {
   "cell_type": "code",
   "execution_count": null,
   "id": "da54e59e-7536-4833-b3ac-bb4e869ab06d",
   "metadata": {},
   "outputs": [],
   "source": []
  }
 ],
 "metadata": {
  "kernelspec": {
   "display_name": "Python 3 (ipykernel)",
   "language": "python",
   "name": "python3"
  },
  "language_info": {
   "codemirror_mode": {
    "name": "ipython",
    "version": 3
   },
   "file_extension": ".py",
   "mimetype": "text/x-python",
   "name": "python",
   "nbconvert_exporter": "python",
   "pygments_lexer": "ipython3",
   "version": "3.11.7"
  }
 },
 "nbformat": 4,
 "nbformat_minor": 5
}
