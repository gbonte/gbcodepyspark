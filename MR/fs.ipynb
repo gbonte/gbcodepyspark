{
 "cells": [
  {
   "cell_type": "markdown",
   "id": "c532057c-baba-4970-87a3-2603950ac0e7",
   "metadata": {},
   "source": [
    "## INFOH515 Pyspark code\n",
    "## Author: Gianluca Bontempi\n",
    "## Pyspark implementation of forward feature selection"
   ]
  },
  {
   "cell_type": "code",
   "execution_count": 38,
   "id": "9c4142b2-9777-4af0-8f5d-d60c969f2ea2",
   "metadata": {
    "scrolled": true
   },
   "outputs": [],
   "source": [
    "import numpy as np\n",
    "import pwd\n",
    "\n",
    "import os\n",
    "from pyspark import SparkContext, SparkConf\n",
    "from pyspark.sql import SparkSession\n",
    "from pyspark.sql.functions import avg, sum\n",
    "\n",
    "\n",
    "from sklearn import linear_model\n",
    "import sklearn.metrics as sm\n",
    "\n",
    "from sklearn.metrics import mean_squared_error, explained_variance_score\n",
    "from sklearn.utils import shuffle\n",
    "from sklearn import datasets\n",
    "from sklearn import model_selection\n",
    "\n",
    "userName = getpass.getuser()\n",
    "appName = pwd.getpwuid( os.getuid() )[ 0 ]\n",
    "\n",
    "\n",
    "# create an instance of SparkSession\n",
    "spark=SparkSession.builder.appName('s.com').getOrCreate()\n",
    "sc=spark.sparkContext"
   ]
  },
  {
   "cell_type": "markdown",
   "id": "20ead94a-a16e-44c7-b241-d127d01e012b",
   "metadata": {},
   "source": [
    "## Dataset generation\n"
   ]
  },
  {
   "cell_type": "code",
   "execution_count": 88,
   "id": "8357ff69-8e78-4976-9368-d28d0b232fec",
   "metadata": {},
   "outputs": [],
   "source": [
    "\n",
    "\n",
    "n=10 # number of features\n",
    "N=5000 # number of samples\n",
    "\n",
    "relf=[1,2,3,n-1]  ## relevant features\n",
    "nrel= len(relf)  ## number of relevant  feature\n",
    "\n",
    "X= np.random.normal(loc=0, scale=1, size=N * n).reshape(N, n)\n",
    "#X=np.concatenate((np.ones((N,1)),X), axis=1)\n",
    "\n",
    "Y=np.zeros((N,1))\n",
    "for j in np.arange(nrel):\n",
    "    Y=Y+X[:,relf[j]].reshape(N, 1)\n",
    "    Y=Y.reshape(N, 1)\n",
    "    \n",
    "    \n",
    "Y=Y+np.random.normal(loc=0, scale=0.1, size=N ).reshape(N, 1)\n",
    "Y=Y.reshape(N, 1)\n",
    "\n",
    "\n",
    "XY = np.concatenate((X,Y), axis=1)\n",
    "dataset=sc.parallelize(XY)\n"
   ]
  },
  {
   "cell_type": "markdown",
   "id": "2038caee-17df-4d2d-a2f4-b1895a653dc4",
   "metadata": {},
   "source": [
    "## Memory-resident least-squares implementation"
   ]
  },
  {
   "cell_type": "code",
   "execution_count": 90,
   "id": "86934b37-1a04-4fa8-a2dc-e7e84ffef14f",
   "metadata": {},
   "outputs": [],
   "source": [
    "def error(X,y):\n",
    "    # returns training error for a least-squares model\n",
    "    linear_regressor = linear_model.LinearRegression()\n",
    "\n",
    "    # Train the model using the training sets\n",
    "    linear_regressor.fit(X, y)\n",
    "    ypred = linear_regressor.predict(X)\n",
    "    \n",
    "    return np.mean((pow(y-ypred,2.0)))"
   ]
  },
  {
   "cell_type": "markdown",
   "id": "2b88846c-d3c4-41a6-9583-ced5d355783d",
   "metadata": {},
   "source": [
    "## Map function x-> (col, ([x[col],x[selected],x[-1]))"
   ]
  },
  {
   "cell_type": "code",
   "execution_count": 91,
   "id": "161f978b-bb1d-407f-845b-9b9760b5aec7",
   "metadata": {},
   "outputs": [],
   "source": [
    "def mapf(x):\n",
    "    l=len(x)\n",
    "    s=len(bselected.value)\n",
    "    # map has access to the brodcasted set of selected features\n",
    "    outm=[]\n",
    "    for i in range(l-1):\n",
    "        if (not i in bselected.value):\n",
    "            if s>0:\n",
    "                outm=outm+[(i, (x[[i]+bselected.value+[l-1]]))]\n",
    "            else:\n",
    "                outm=outm+[(i, (x[[i]+[l-1]]))]\n",
    "                ## concatenates the values of the considered feature and the selected features\n",
    "    return(outm)"
   ]
  },
  {
   "cell_type": "markdown",
   "id": "3d85b89a-f73c-402c-891c-97118445826b",
   "metadata": {},
   "source": [
    "## Map outcome at the first step of forward selection¶"
   ]
  },
  {
   "cell_type": "code",
   "execution_count": 92,
   "id": "75fac46a-5d84-45d4-91bc-02e973701974",
   "metadata": {},
   "outputs": [
    {
     "data": {
      "text/plain": [
       "[(0,\n",
       "  array([[ 0.62217615, -0.29790529],\n",
       "         [ 0.18264289, -2.39621927],\n",
       "         [-1.06972959, -3.09837015],\n",
       "         ...,\n",
       "         [-0.27838575,  2.1313603 ],\n",
       "         [-0.64583693, -1.5195167 ],\n",
       "         [-0.28389813,  2.14365314]])),\n",
       " (1,\n",
       "  array([[-1.2285351 , -0.29790529],\n",
       "         [-0.26289747, -2.39621927],\n",
       "         [-0.7619549 , -3.09837015],\n",
       "         ...,\n",
       "         [-0.44766073,  2.1313603 ],\n",
       "         [-0.39661999, -1.5195167 ],\n",
       "         [-0.51123439,  2.14365314]])),\n",
       " (2,\n",
       "  array([[ 0.02305261, -0.29790529],\n",
       "         [-0.80130621, -2.39621927],\n",
       "         [ 0.28742134, -3.09837015],\n",
       "         ...,\n",
       "         [ 1.23514176,  2.1313603 ],\n",
       "         [-1.81940532, -1.5195167 ],\n",
       "         [ 0.66705138,  2.14365314]])),\n",
       " (3,\n",
       "  array([[ 0.04260902, -0.29790529],\n",
       "         [-1.24882258, -2.39621927],\n",
       "         [-1.84107168, -3.09837015],\n",
       "         ...,\n",
       "         [ 0.1594543 ,  2.1313603 ],\n",
       "         [ 0.47385405, -1.5195167 ],\n",
       "         [ 0.86671215,  2.14365314]])),\n",
       " (4,\n",
       "  array([[ 1.76059874, -0.29790529],\n",
       "         [ 1.57118713, -2.39621927],\n",
       "         [-0.76660875, -3.09837015],\n",
       "         ...,\n",
       "         [ 0.37975971,  2.1313603 ],\n",
       "         [-2.43177586, -1.5195167 ],\n",
       "         [-0.02694999,  2.14365314]])),\n",
       " (5,\n",
       "  array([[ 0.24670372, -0.29790529],\n",
       "         [ 1.1503997 , -2.39621927],\n",
       "         [ 0.13745837, -3.09837015],\n",
       "         ...,\n",
       "         [ 0.0917504 ,  2.1313603 ],\n",
       "         [-0.35209309, -1.5195167 ],\n",
       "         [-0.54646528,  2.14365314]])),\n",
       " (6,\n",
       "  array([[-1.90678823, -0.29790529],\n",
       "         [-0.27472767, -2.39621927],\n",
       "         [ 0.5128759 , -3.09837015],\n",
       "         ...,\n",
       "         [-0.21762678,  2.1313603 ],\n",
       "         [-0.18105133, -1.5195167 ],\n",
       "         [-0.33750751,  2.14365314]])),\n",
       " (7,\n",
       "  array([[-1.81144479, -0.29790529],\n",
       "         [-0.31594851, -2.39621927],\n",
       "         [ 0.59348796, -3.09837015],\n",
       "         ...,\n",
       "         [ 0.60276674,  2.1313603 ],\n",
       "         [-0.80964405, -1.5195167 ],\n",
       "         [-1.70989333,  2.14365314]])),\n",
       " (8,\n",
       "  array([[-0.27275027, -0.29790529],\n",
       "         [-0.54202962, -2.39621927],\n",
       "         [-0.01320606, -3.09837015],\n",
       "         ...,\n",
       "         [-2.02779295,  2.1313603 ],\n",
       "         [-1.95805508, -1.5195167 ],\n",
       "         [ 0.5154257 ,  2.14365314]])),\n",
       " (9,\n",
       "  array([[ 0.78562416, -0.29790529],\n",
       "         [-0.1963558 , -2.39621927],\n",
       "         [-0.71162136, -3.09837015],\n",
       "         ...,\n",
       "         [ 1.09167206,  2.1313603 ],\n",
       "         [ 0.29943762, -1.5195167 ],\n",
       "         [ 1.14635612,  2.14365314]]))]"
      ]
     },
     "execution_count": 92,
     "metadata": {},
     "output_type": "execute_result"
    }
   ],
   "source": [
    "selected=[]\n",
    "# At the beginning selected is empty\n",
    "\n",
    "bselected = sc.broadcast(selected)\n",
    "# it broadcasts the set of already selected features \n",
    "D=dataset.flatMap(lambda x: mapf(x)).reduceByKey(lambda a,b: np.vstack((a,b)))\n",
    "# for each non selected feature, it returns both the input and the output\n",
    "D.collect()"
   ]
  },
  {
   "cell_type": "code",
   "execution_count": 93,
   "id": "fcc8ee57-bbc7-4c84-9ac6-6bd9cb4e92bd",
   "metadata": {},
   "outputs": [
    {
     "data": {
      "text/plain": [
       "[(0, 4.059404191093759),\n",
       " (1, 3.0546615465392186),\n",
       " (2, 3.0507307206717473),\n",
       " (3, 3.0098937215906507),\n",
       " (4, 4.062630349169577),\n",
       " (5, 4.062710120202222),\n",
       " (6, 4.062842540144609),\n",
       " (7, 4.061593466573133),\n",
       " (8, 4.061778139609421),\n",
       " (9, 3.008477039921329)]"
      ]
     },
     "execution_count": 93,
     "metadata": {},
     "output_type": "execute_result"
    }
   ],
   "source": [
    "# it computes the error for each considered feature\n",
    "# error function takes as input A (in this case a single column) and y \n",
    "D.reduceByKey(lambda a,b: np.vstack((a,b))).map(lambda x: (x[0],error(x[1][:,:-1],x[1][:,-1]))).collect()"
   ]
  },
  {
   "cell_type": "markdown",
   "id": "b511856e-da0b-46fa-b719-824b4f49f094",
   "metadata": {},
   "source": [
    "### Map outcome at the second step of forward selection¶"
   ]
  },
  {
   "cell_type": "code",
   "execution_count": 94,
   "id": "887da22f-2ebb-4a21-89a7-efe38a2643f4",
   "metadata": {},
   "outputs": [
    {
     "data": {
      "text/plain": [
       "[(0,\n",
       "  array([[ 0.62217615, -1.2285351 , -0.29790529],\n",
       "         [ 0.18264289, -0.26289747, -2.39621927],\n",
       "         [-1.06972959, -0.7619549 , -3.09837015],\n",
       "         ...,\n",
       "         [-0.27838575, -0.44766073,  2.1313603 ],\n",
       "         [-0.64583693, -0.39661999, -1.5195167 ],\n",
       "         [-0.28389813, -0.51123439,  2.14365314]])),\n",
       " (2,\n",
       "  array([[ 0.02305261, -1.2285351 , -0.29790529],\n",
       "         [-0.80130621, -0.26289747, -2.39621927],\n",
       "         [ 0.28742134, -0.7619549 , -3.09837015],\n",
       "         ...,\n",
       "         [ 1.23514176, -0.44766073,  2.1313603 ],\n",
       "         [-1.81940532, -0.39661999, -1.5195167 ],\n",
       "         [ 0.66705138, -0.51123439,  2.14365314]])),\n",
       " (3,\n",
       "  array([[ 0.04260902, -1.2285351 , -0.29790529],\n",
       "         [-1.24882258, -0.26289747, -2.39621927],\n",
       "         [-1.84107168, -0.7619549 , -3.09837015],\n",
       "         ...,\n",
       "         [ 0.1594543 , -0.44766073,  2.1313603 ],\n",
       "         [ 0.47385405, -0.39661999, -1.5195167 ],\n",
       "         [ 0.86671215, -0.51123439,  2.14365314]])),\n",
       " (4,\n",
       "  array([[ 1.76059874, -1.2285351 , -0.29790529],\n",
       "         [ 1.57118713, -0.26289747, -2.39621927],\n",
       "         [-0.76660875, -0.7619549 , -3.09837015],\n",
       "         ...,\n",
       "         [ 0.37975971, -0.44766073,  2.1313603 ],\n",
       "         [-2.43177586, -0.39661999, -1.5195167 ],\n",
       "         [-0.02694999, -0.51123439,  2.14365314]])),\n",
       " (5,\n",
       "  array([[ 0.24670372, -1.2285351 , -0.29790529],\n",
       "         [ 1.1503997 , -0.26289747, -2.39621927],\n",
       "         [ 0.13745837, -0.7619549 , -3.09837015],\n",
       "         ...,\n",
       "         [ 0.0917504 , -0.44766073,  2.1313603 ],\n",
       "         [-0.35209309, -0.39661999, -1.5195167 ],\n",
       "         [-0.54646528, -0.51123439,  2.14365314]])),\n",
       " (6,\n",
       "  array([[-1.90678823, -1.2285351 , -0.29790529],\n",
       "         [-0.27472767, -0.26289747, -2.39621927],\n",
       "         [ 0.5128759 , -0.7619549 , -3.09837015],\n",
       "         ...,\n",
       "         [-0.21762678, -0.44766073,  2.1313603 ],\n",
       "         [-0.18105133, -0.39661999, -1.5195167 ],\n",
       "         [-0.33750751, -0.51123439,  2.14365314]])),\n",
       " (7,\n",
       "  array([[-1.81144479, -1.2285351 , -0.29790529],\n",
       "         [-0.31594851, -0.26289747, -2.39621927],\n",
       "         [ 0.59348796, -0.7619549 , -3.09837015],\n",
       "         ...,\n",
       "         [ 0.60276674, -0.44766073,  2.1313603 ],\n",
       "         [-0.80964405, -0.39661999, -1.5195167 ],\n",
       "         [-1.70989333, -0.51123439,  2.14365314]])),\n",
       " (8,\n",
       "  array([[-0.27275027, -1.2285351 , -0.29790529],\n",
       "         [-0.54202962, -0.26289747, -2.39621927],\n",
       "         [-0.01320606, -0.7619549 , -3.09837015],\n",
       "         ...,\n",
       "         [-2.02779295, -0.44766073,  2.1313603 ],\n",
       "         [-1.95805508, -0.39661999, -1.5195167 ],\n",
       "         [ 0.5154257 , -0.51123439,  2.14365314]])),\n",
       " (9,\n",
       "  array([[ 0.78562416, -1.2285351 , -0.29790529],\n",
       "         [-0.1963558 , -0.26289747, -2.39621927],\n",
       "         [-0.71162136, -0.7619549 , -3.09837015],\n",
       "         ...,\n",
       "         [ 1.09167206, -0.44766073,  2.1313603 ],\n",
       "         [ 0.29943762, -0.39661999, -1.5195167 ],\n",
       "         [ 1.14635612, -0.51123439,  2.14365314]]))]"
      ]
     },
     "execution_count": 94,
     "metadata": {},
     "output_type": "execute_result"
    }
   ],
   "source": [
    "selected=[1]\n",
    "#suppose that the first selected variable is the number 1\n",
    "\n",
    "bselected = sc.broadcast(selected)\n",
    "# it broadcasts the set of already selected featuresD=dataset.flatMap(lambda x: mapf(x))\n",
    "D=dataset.flatMap(lambda x: mapf(x)).reduceByKey(lambda a,b: np.vstack((a,b)))\n",
    "# for each non selected feature, it returns both the input and the output\n",
    "D.collect()"
   ]
  },
  {
   "cell_type": "markdown",
   "id": "a7f8577e-6c9c-435d-a1de-d701cd23dc30",
   "metadata": {},
   "source": [
    "## Forward selection¶"
   ]
  },
  {
   "cell_type": "code",
   "execution_count": 95,
   "id": "aded6d35-ad02-4399-8053-d9c670a5c31d",
   "metadata": {},
   "outputs": [
    {
     "name": "stdout",
     "output_type": "stream",
     "text": [
      "3.008477039921329\n",
      "[9]\n",
      "2.006207474318531\n",
      "[9, 1]\n",
      "0.9951824710994884\n",
      "[9, 1, 3]\n",
      "0.010072479233388379\n",
      "[9, 1, 3, 2]\n"
     ]
    }
   ],
   "source": [
    "selected=[]\n",
    "bselected = sc.broadcast(selected)\n",
    "# it broadcasts the set of already selected features\n",
    "\n",
    "\n",
    "for j in range(len(relf)):\n",
    "    D=dataset.flatMap(lambda x: mapf(x))\n",
    "    ERR=D.reduceByKey(lambda a,b: np.vstack((a,b))).map(lambda x: (x[0],error(x[1][:,:-1],x[1][:,-1]))).collect()\n",
    "    bestfs=0\n",
    "    bestErr=100\n",
    "    for i in range(len(ERR)):\n",
    "        if ERR[i][1]<bestErr:\n",
    "            bestErr=ERR[i][1]\n",
    "            bestfs=ERR[i][0]\n",
    "    print(bestErr)\n",
    "    selected=selected+[bestfs]\n",
    "    bselected = sc.broadcast(selected)\n",
    "    print(selected)"
   ]
  },
  {
   "cell_type": "code",
   "execution_count": 97,
   "id": "b3c0ee2c-addc-46a0-9f69-beca034e22c1",
   "metadata": {},
   "outputs": [
    {
     "name": "stdout",
     "output_type": "stream",
     "text": [
      "Relevant= [1 2 3 9] Selected= [1 2 3 9]\n"
     ]
    }
   ],
   "source": [
    "print(\"Relevant=\", np.sort(relf), \"Selected=\",np.sort(selected))"
   ]
  },
  {
   "cell_type": "code",
   "execution_count": null,
   "id": "da54e59e-7536-4833-b3ac-bb4e869ab06d",
   "metadata": {},
   "outputs": [],
   "source": []
  }
 ],
 "metadata": {
  "kernelspec": {
   "display_name": "Python 3 (ipykernel)",
   "language": "python",
   "name": "python3"
  },
  "language_info": {
   "codemirror_mode": {
    "name": "ipython",
    "version": 3
   },
   "file_extension": ".py",
   "mimetype": "text/x-python",
   "name": "python",
   "nbconvert_exporter": "python",
   "pygments_lexer": "ipython3",
   "version": "3.12.8"
  }
 },
 "nbformat": 4,
 "nbformat_minor": 5
}
